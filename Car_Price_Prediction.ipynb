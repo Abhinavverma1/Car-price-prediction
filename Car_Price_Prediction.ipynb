{
 "cells": [
  {
   "cell_type": "code",
   "execution_count": 10,
   "id": "5788f1f2",
   "metadata": {},
   "outputs": [],
   "source": [
    "# Importing the required libraries\n",
    "import numpy as np\n",
    "import pandas as pd\n",
    "import matplotlib.pyplot as plt\n",
    "import seaborn as sns\n",
    "import warnings\n",
    "warnings.filterwarnings('ignore')\n",
    "from sklearn.linear_model import LogisticRegression\n",
    "from sklearn.tree import DecisionTreeClassifier\n",
    "from sklearn.model_selection import GridSearchCV\n",
    "from sklearn.model_selection import train_test_split\n",
    "from sklearn.neighbors import KNeighborsClassifier\n",
    "from sklearn.naive_bayes import GaussianNB\n",
    "from sklearn.ensemble import RandomForestClassifier\n",
    "from sklearn.preprocessing import StandardScaler\n",
    "from sklearn.metrics import accuracy_score, confusion_matrix, roc_curve, roc_auc_score\n",
    "import statsmodels.api as sma\n",
    "from statsmodels.stats.outliers_influence import variance_inflation_factor\n",
    "from sklearn.model_selection import cross_val_score\n",
    "from sklearn.ensemble import RandomForestRegressor\n",
    "from sklearn.metrics import r2_score\n",
    "from sklearn.metrics import mean_squared_error\n",
    "from sklearn.metrics import mean_absolute_error"
   ]
  },
  {
   "cell_type": "code",
   "execution_count": 11,
   "id": "f458b0b1",
   "metadata": {},
   "outputs": [
    {
     "data": {
      "text/html": [
       "<div>\n",
       "<style scoped>\n",
       "    .dataframe tbody tr th:only-of-type {\n",
       "        vertical-align: middle;\n",
       "    }\n",
       "\n",
       "    .dataframe tbody tr th {\n",
       "        vertical-align: top;\n",
       "    }\n",
       "\n",
       "    .dataframe thead th {\n",
       "        text-align: right;\n",
       "    }\n",
       "</style>\n",
       "<table border=\"1\" class=\"dataframe\">\n",
       "  <thead>\n",
       "    <tr style=\"text-align: right;\">\n",
       "      <th></th>\n",
       "      <th>Unnamed: 0</th>\n",
       "      <th>brands</th>\n",
       "      <th>kmdriven</th>\n",
       "      <th>no_of_owner</th>\n",
       "      <th>Fuel</th>\n",
       "      <th>varient</th>\n",
       "      <th>Price</th>\n",
       "      <th>emi</th>\n",
       "      <th>Location</th>\n",
       "    </tr>\n",
       "  </thead>\n",
       "  <tbody>\n",
       "    <tr>\n",
       "      <th>0</th>\n",
       "      <td>0</td>\n",
       "      <td>2018 Maruti Alto 800</td>\n",
       "      <td>20,086</td>\n",
       "      <td>1</td>\n",
       "      <td>Petrol</td>\n",
       "      <td>Manual</td>\n",
       "      <td>3,12,999</td>\n",
       "      <td>6,962</td>\n",
       "      <td>Ahmedabad</td>\n",
       "    </tr>\n",
       "    <tr>\n",
       "      <th>1</th>\n",
       "      <td>1</td>\n",
       "      <td>2021 Maruti Alto</td>\n",
       "      <td>4,066</td>\n",
       "      <td>1</td>\n",
       "      <td>Petrol</td>\n",
       "      <td>Manual</td>\n",
       "      <td>3,75,499</td>\n",
       "      <td>8,353</td>\n",
       "      <td>Ahmedabad</td>\n",
       "    </tr>\n",
       "    <tr>\n",
       "      <th>2</th>\n",
       "      <td>2</td>\n",
       "      <td>2019 Maruti Eeco</td>\n",
       "      <td>80,770</td>\n",
       "      <td>1</td>\n",
       "      <td>Petrol</td>\n",
       "      <td>Manual</td>\n",
       "      <td>4,32,199</td>\n",
       "      <td>9,614</td>\n",
       "      <td>Ahmedabad</td>\n",
       "    </tr>\n",
       "    <tr>\n",
       "      <th>3</th>\n",
       "      <td>3</td>\n",
       "      <td>2018 Maruti Alto 800</td>\n",
       "      <td>65,915</td>\n",
       "      <td>1</td>\n",
       "      <td>Petrol</td>\n",
       "      <td>Manual</td>\n",
       "      <td>3,22,499</td>\n",
       "      <td>7,174</td>\n",
       "      <td>Ahmedabad</td>\n",
       "    </tr>\n",
       "    <tr>\n",
       "      <th>4</th>\n",
       "      <td>4</td>\n",
       "      <td>2021 Maruti Alto</td>\n",
       "      <td>4,231</td>\n",
       "      <td>1</td>\n",
       "      <td>Petrol</td>\n",
       "      <td>Manual</td>\n",
       "      <td>3,78,699</td>\n",
       "      <td>8,424</td>\n",
       "      <td>Ahmedabad</td>\n",
       "    </tr>\n",
       "    <tr>\n",
       "      <th>...</th>\n",
       "      <td>...</td>\n",
       "      <td>...</td>\n",
       "      <td>...</td>\n",
       "      <td>...</td>\n",
       "      <td>...</td>\n",
       "      <td>...</td>\n",
       "      <td>...</td>\n",
       "      <td>...</td>\n",
       "      <td>...</td>\n",
       "    </tr>\n",
       "    <tr>\n",
       "      <th>3729</th>\n",
       "      <td>650</td>\n",
       "      <td>2015 Honda City</td>\n",
       "      <td>1,50,323</td>\n",
       "      <td>1</td>\n",
       "      <td>Petrol</td>\n",
       "      <td>Manual</td>\n",
       "      <td>5,41,899</td>\n",
       "      <td>12,054</td>\n",
       "      <td>Pune</td>\n",
       "    </tr>\n",
       "    <tr>\n",
       "      <th>3730</th>\n",
       "      <td>651</td>\n",
       "      <td>2019 Maruti Alto K10</td>\n",
       "      <td>57,875</td>\n",
       "      <td>1</td>\n",
       "      <td>Petrol + CNG</td>\n",
       "      <td>Manual</td>\n",
       "      <td>4,23,599</td>\n",
       "      <td>9,423</td>\n",
       "      <td>Pune</td>\n",
       "    </tr>\n",
       "    <tr>\n",
       "      <th>3731</th>\n",
       "      <td>652</td>\n",
       "      <td>2018 Ford Ecosport</td>\n",
       "      <td>18,482</td>\n",
       "      <td>1</td>\n",
       "      <td>Diesel</td>\n",
       "      <td>Manual</td>\n",
       "      <td>9,99,599</td>\n",
       "      <td>22,236</td>\n",
       "      <td>Pune</td>\n",
       "    </tr>\n",
       "    <tr>\n",
       "      <th>3732</th>\n",
       "      <td>653</td>\n",
       "      <td>2018 Ford Ecosport</td>\n",
       "      <td>17,005</td>\n",
       "      <td>2</td>\n",
       "      <td>Petrol</td>\n",
       "      <td>Manual</td>\n",
       "      <td>9,32,799</td>\n",
       "      <td>20,750</td>\n",
       "      <td>Pune</td>\n",
       "    </tr>\n",
       "    <tr>\n",
       "      <th>3733</th>\n",
       "      <td>654</td>\n",
       "      <td>2017 Hyundai Grand i10</td>\n",
       "      <td>11,203</td>\n",
       "      <td>1</td>\n",
       "      <td>Petrol</td>\n",
       "      <td>Automatic</td>\n",
       "      <td>6,38,599</td>\n",
       "      <td>14,205</td>\n",
       "      <td>Pune</td>\n",
       "    </tr>\n",
       "  </tbody>\n",
       "</table>\n",
       "<p>3734 rows × 9 columns</p>\n",
       "</div>"
      ],
      "text/plain": [
       "      Unnamed: 0                  brands   kmdriven  no_of_owner  \\\n",
       "0              0    2018 Maruti Alto 800    20,086             1   \n",
       "1              1        2021 Maruti Alto     4,066             1   \n",
       "2              2        2019 Maruti Eeco    80,770             1   \n",
       "3              3    2018 Maruti Alto 800    65,915             1   \n",
       "4              4        2021 Maruti Alto     4,231             1   \n",
       "...          ...                     ...        ...          ...   \n",
       "3729         650         2015 Honda City  1,50,323             1   \n",
       "3730         651    2019 Maruti Alto K10    57,875             1   \n",
       "3731         652      2018 Ford Ecosport    18,482             1   \n",
       "3732         653      2018 Ford Ecosport    17,005             2   \n",
       "3733         654  2017 Hyundai Grand i10    11,203             1   \n",
       "\n",
       "              Fuel    varient     Price     emi   Location  \n",
       "0           Petrol     Manual  3,12,999   6,962  Ahmedabad  \n",
       "1           Petrol     Manual  3,75,499   8,353  Ahmedabad  \n",
       "2           Petrol     Manual  4,32,199   9,614  Ahmedabad  \n",
       "3           Petrol     Manual  3,22,499   7,174  Ahmedabad  \n",
       "4           Petrol     Manual  3,78,699   8,424  Ahmedabad  \n",
       "...            ...        ...       ...     ...        ...  \n",
       "3729        Petrol     Manual  5,41,899  12,054       Pune  \n",
       "3730  Petrol + CNG     Manual  4,23,599   9,423       Pune  \n",
       "3731        Diesel     Manual  9,99,599  22,236       Pune  \n",
       "3732        Petrol     Manual  9,32,799  20,750       Pune  \n",
       "3733        Petrol  Automatic  6,38,599  14,205       Pune  \n",
       "\n",
       "[3734 rows x 9 columns]"
      ]
     },
     "execution_count": 11,
     "metadata": {},
     "output_type": "execute_result"
    }
   ],
   "source": [
    "df = pd.read_csv(\"C:\\\\Users\\\\abhic\\\\My Datasets\\\\Used_Car_Details2.csv\")\n",
    "df"
   ]
  },
  {
   "cell_type": "code",
   "execution_count": 12,
   "id": "09b40ba5",
   "metadata": {},
   "outputs": [
    {
     "data": {
      "text/html": [
       "<div>\n",
       "<style scoped>\n",
       "    .dataframe tbody tr th:only-of-type {\n",
       "        vertical-align: middle;\n",
       "    }\n",
       "\n",
       "    .dataframe tbody tr th {\n",
       "        vertical-align: top;\n",
       "    }\n",
       "\n",
       "    .dataframe thead th {\n",
       "        text-align: right;\n",
       "    }\n",
       "</style>\n",
       "<table border=\"1\" class=\"dataframe\">\n",
       "  <thead>\n",
       "    <tr style=\"text-align: right;\">\n",
       "      <th></th>\n",
       "      <th>Unnamed: 0</th>\n",
       "      <th>brands</th>\n",
       "      <th>kmdriven</th>\n",
       "      <th>no_of_owner</th>\n",
       "      <th>Fuel</th>\n",
       "      <th>varient</th>\n",
       "      <th>Price</th>\n",
       "      <th>emi</th>\n",
       "      <th>Location</th>\n",
       "    </tr>\n",
       "  </thead>\n",
       "  <tbody>\n",
       "    <tr>\n",
       "      <th>0</th>\n",
       "      <td>0</td>\n",
       "      <td>2018 Maruti Alto 800</td>\n",
       "      <td>20,086</td>\n",
       "      <td>1</td>\n",
       "      <td>Petrol</td>\n",
       "      <td>Manual</td>\n",
       "      <td>3,12,999</td>\n",
       "      <td>6,962</td>\n",
       "      <td>Ahmedabad</td>\n",
       "    </tr>\n",
       "    <tr>\n",
       "      <th>1</th>\n",
       "      <td>1</td>\n",
       "      <td>2021 Maruti Alto</td>\n",
       "      <td>4,066</td>\n",
       "      <td>1</td>\n",
       "      <td>Petrol</td>\n",
       "      <td>Manual</td>\n",
       "      <td>3,75,499</td>\n",
       "      <td>8,353</td>\n",
       "      <td>Ahmedabad</td>\n",
       "    </tr>\n",
       "    <tr>\n",
       "      <th>2</th>\n",
       "      <td>2</td>\n",
       "      <td>2019 Maruti Eeco</td>\n",
       "      <td>80,770</td>\n",
       "      <td>1</td>\n",
       "      <td>Petrol</td>\n",
       "      <td>Manual</td>\n",
       "      <td>4,32,199</td>\n",
       "      <td>9,614</td>\n",
       "      <td>Ahmedabad</td>\n",
       "    </tr>\n",
       "    <tr>\n",
       "      <th>3</th>\n",
       "      <td>3</td>\n",
       "      <td>2018 Maruti Alto 800</td>\n",
       "      <td>65,915</td>\n",
       "      <td>1</td>\n",
       "      <td>Petrol</td>\n",
       "      <td>Manual</td>\n",
       "      <td>3,22,499</td>\n",
       "      <td>7,174</td>\n",
       "      <td>Ahmedabad</td>\n",
       "    </tr>\n",
       "    <tr>\n",
       "      <th>4</th>\n",
       "      <td>4</td>\n",
       "      <td>2021 Maruti Alto</td>\n",
       "      <td>4,231</td>\n",
       "      <td>1</td>\n",
       "      <td>Petrol</td>\n",
       "      <td>Manual</td>\n",
       "      <td>3,78,699</td>\n",
       "      <td>8,424</td>\n",
       "      <td>Ahmedabad</td>\n",
       "    </tr>\n",
       "  </tbody>\n",
       "</table>\n",
       "</div>"
      ],
      "text/plain": [
       "   Unnamed: 0                brands kmdriven  no_of_owner    Fuel varient  \\\n",
       "0           0  2018 Maruti Alto 800  20,086             1  Petrol  Manual   \n",
       "1           1      2021 Maruti Alto   4,066             1  Petrol  Manual   \n",
       "2           2      2019 Maruti Eeco  80,770             1  Petrol  Manual   \n",
       "3           3  2018 Maruti Alto 800  65,915             1  Petrol  Manual   \n",
       "4           4      2021 Maruti Alto   4,231             1  Petrol  Manual   \n",
       "\n",
       "      Price    emi   Location  \n",
       "0  3,12,999  6,962  Ahmedabad  \n",
       "1  3,75,499  8,353  Ahmedabad  \n",
       "2  4,32,199  9,614  Ahmedabad  \n",
       "3  3,22,499  7,174  Ahmedabad  \n",
       "4  3,78,699  8,424  Ahmedabad  "
      ]
     },
     "execution_count": 12,
     "metadata": {},
     "output_type": "execute_result"
    }
   ],
   "source": [
    "#displaying the max columns\n",
    "pd.set_option(\"display.max_columns\",None)\n",
    "df.head()"
   ]
  },
  {
   "cell_type": "code",
   "execution_count": 13,
   "id": "8fb8791e",
   "metadata": {},
   "outputs": [
    {
     "name": "stdout",
     "output_type": "stream",
     "text": [
      "<class 'pandas.core.frame.DataFrame'>\n",
      "RangeIndex: 3734 entries, 0 to 3733\n",
      "Data columns (total 9 columns):\n",
      " #   Column       Non-Null Count  Dtype \n",
      "---  ------       --------------  ----- \n",
      " 0   Unnamed: 0   3734 non-null   int64 \n",
      " 1   brands       3734 non-null   object\n",
      " 2   kmdriven     3734 non-null   object\n",
      " 3   no_of_owner  3734 non-null   int64 \n",
      " 4   Fuel         3734 non-null   object\n",
      " 5   varient      3687 non-null   object\n",
      " 6   Price        3734 non-null   object\n",
      " 7   emi          3734 non-null   object\n",
      " 8   Location     3734 non-null   object\n",
      "dtypes: int64(2), object(7)\n",
      "memory usage: 262.7+ KB\n"
     ]
    }
   ],
   "source": [
    "# Checking the info of each column\n",
    "df.info()"
   ]
  },
  {
   "cell_type": "code",
   "execution_count": 14,
   "id": "898d11d1",
   "metadata": {},
   "outputs": [
    {
     "data": {
      "text/plain": [
       "Unnamed: 0      0\n",
       "brands          0\n",
       "kmdriven        0\n",
       "no_of_owner     0\n",
       "Fuel            0\n",
       "varient        47\n",
       "Price           0\n",
       "emi             0\n",
       "Location        0\n",
       "dtype: int64"
      ]
     },
     "execution_count": 14,
     "metadata": {},
     "output_type": "execute_result"
    }
   ],
   "source": [
    "# Checking null values\n",
    "df.isnull().sum()"
   ]
  },
  {
   "cell_type": "markdown",
   "id": "2e08e7a9",
   "metadata": {},
   "source": [
    "There are null values in our dataset."
   ]
  },
  {
   "cell_type": "code",
   "execution_count": 15,
   "id": "5c021f51",
   "metadata": {},
   "outputs": [
    {
     "data": {
      "text/plain": [
       "(3734, 9)"
      ]
     },
     "execution_count": 15,
     "metadata": {},
     "output_type": "execute_result"
    }
   ],
   "source": [
    "# Checking the dimensions of the training dataset\n",
    "df.shape"
   ]
  },
  {
   "cell_type": "code",
   "execution_count": 16,
   "id": "54d53ae8",
   "metadata": {},
   "outputs": [
    {
     "data": {
      "text/plain": [
       "<AxesSubplot:>"
      ]
     },
     "execution_count": 16,
     "metadata": {},
     "output_type": "execute_result"
    },
    {
     "data": {
      "image/png": "[encoded data removed]",
      "text/plain": [
       "<Figure size 432x288 with 2 Axes>"
      ]
     },
     "metadata": {
      "needs_background": "light"
     },
     "output_type": "display_data"
    }
   ],
   "source": [
    "# plotting heatmap\n",
    "sns.heatmap(df.isnull())"
   ]
  },
  {
   "cell_type": "code",
   "execution_count": 18,
   "id": "edb447ed",
   "metadata": {},
   "outputs": [],
   "source": [
    "# Filling missing values with mode\n",
    "df['varient']=df['varient'].fillna(df['varient'].mode()[0])"
   ]
  },
  {
   "cell_type": "code",
   "execution_count": 19,
   "id": "7e6d93d9",
   "metadata": {},
   "outputs": [
    {
     "data": {
      "text/html": [
       "<div>\n",
       "<style scoped>\n",
       "    .dataframe tbody tr th:only-of-type {\n",
       "        vertical-align: middle;\n",
       "    }\n",
       "\n",
       "    .dataframe tbody tr th {\n",
       "        vertical-align: top;\n",
       "    }\n",
       "\n",
       "    .dataframe thead th {\n",
       "        text-align: right;\n",
       "    }\n",
       "</style>\n",
       "<table border=\"1\" class=\"dataframe\">\n",
       "  <thead>\n",
       "    <tr style=\"text-align: right;\">\n",
       "      <th></th>\n",
       "      <th>brands</th>\n",
       "      <th>kmdriven</th>\n",
       "      <th>no_of_owner</th>\n",
       "      <th>Fuel</th>\n",
       "      <th>varient</th>\n",
       "      <th>Price</th>\n",
       "      <th>emi</th>\n",
       "      <th>Location</th>\n",
       "    </tr>\n",
       "  </thead>\n",
       "  <tbody>\n",
       "    <tr>\n",
       "      <th>0</th>\n",
       "      <td>2018 Maruti Alto 800</td>\n",
       "      <td>20,086</td>\n",
       "      <td>1</td>\n",
       "      <td>Petrol</td>\n",
       "      <td>Manual</td>\n",
       "      <td>3,12,999</td>\n",
       "      <td>6,962</td>\n",
       "      <td>Ahmedabad</td>\n",
       "    </tr>\n",
       "    <tr>\n",
       "      <th>1</th>\n",
       "      <td>2021 Maruti Alto</td>\n",
       "      <td>4,066</td>\n",
       "      <td>1</td>\n",
       "      <td>Petrol</td>\n",
       "      <td>Manual</td>\n",
       "      <td>3,75,499</td>\n",
       "      <td>8,353</td>\n",
       "      <td>Ahmedabad</td>\n",
       "    </tr>\n",
       "    <tr>\n",
       "      <th>2</th>\n",
       "      <td>2019 Maruti Eeco</td>\n",
       "      <td>80,770</td>\n",
       "      <td>1</td>\n",
       "      <td>Petrol</td>\n",
       "      <td>Manual</td>\n",
       "      <td>4,32,199</td>\n",
       "      <td>9,614</td>\n",
       "      <td>Ahmedabad</td>\n",
       "    </tr>\n",
       "    <tr>\n",
       "      <th>3</th>\n",
       "      <td>2018 Maruti Alto 800</td>\n",
       "      <td>65,915</td>\n",
       "      <td>1</td>\n",
       "      <td>Petrol</td>\n",
       "      <td>Manual</td>\n",
       "      <td>3,22,499</td>\n",
       "      <td>7,174</td>\n",
       "      <td>Ahmedabad</td>\n",
       "    </tr>\n",
       "    <tr>\n",
       "      <th>4</th>\n",
       "      <td>2021 Maruti Alto</td>\n",
       "      <td>4,231</td>\n",
       "      <td>1</td>\n",
       "      <td>Petrol</td>\n",
       "      <td>Manual</td>\n",
       "      <td>3,78,699</td>\n",
       "      <td>8,424</td>\n",
       "      <td>Ahmedabad</td>\n",
       "    </tr>\n",
       "    <tr>\n",
       "      <th>...</th>\n",
       "      <td>...</td>\n",
       "      <td>...</td>\n",
       "      <td>...</td>\n",
       "      <td>...</td>\n",
       "      <td>...</td>\n",
       "      <td>...</td>\n",
       "      <td>...</td>\n",
       "      <td>...</td>\n",
       "    </tr>\n",
       "    <tr>\n",
       "      <th>3729</th>\n",
       "      <td>2015 Honda City</td>\n",
       "      <td>1,50,323</td>\n",
       "      <td>1</td>\n",
       "      <td>Petrol</td>\n",
       "      <td>Manual</td>\n",
       "      <td>5,41,899</td>\n",
       "      <td>12,054</td>\n",
       "      <td>Pune</td>\n",
       "    </tr>\n",
       "    <tr>\n",
       "      <th>3730</th>\n",
       "      <td>2019 Maruti Alto K10</td>\n",
       "      <td>57,875</td>\n",
       "      <td>1</td>\n",
       "      <td>Petrol + CNG</td>\n",
       "      <td>Manual</td>\n",
       "      <td>4,23,599</td>\n",
       "      <td>9,423</td>\n",
       "      <td>Pune</td>\n",
       "    </tr>\n",
       "    <tr>\n",
       "      <th>3731</th>\n",
       "      <td>2018 Ford Ecosport</td>\n",
       "      <td>18,482</td>\n",
       "      <td>1</td>\n",
       "      <td>Diesel</td>\n",
       "      <td>Manual</td>\n",
       "      <td>9,99,599</td>\n",
       "      <td>22,236</td>\n",
       "      <td>Pune</td>\n",
       "    </tr>\n",
       "    <tr>\n",
       "      <th>3732</th>\n",
       "      <td>2018 Ford Ecosport</td>\n",
       "      <td>17,005</td>\n",
       "      <td>2</td>\n",
       "      <td>Petrol</td>\n",
       "      <td>Manual</td>\n",
       "      <td>9,32,799</td>\n",
       "      <td>20,750</td>\n",
       "      <td>Pune</td>\n",
       "    </tr>\n",
       "    <tr>\n",
       "      <th>3733</th>\n",
       "      <td>2017 Hyundai Grand i10</td>\n",
       "      <td>11,203</td>\n",
       "      <td>1</td>\n",
       "      <td>Petrol</td>\n",
       "      <td>Automatic</td>\n",
       "      <td>6,38,599</td>\n",
       "      <td>14,205</td>\n",
       "      <td>Pune</td>\n",
       "    </tr>\n",
       "  </tbody>\n",
       "</table>\n",
       "<p>3734 rows × 8 columns</p>\n",
       "</div>"
      ],
      "text/plain": [
       "                      brands   kmdriven  no_of_owner          Fuel    varient  \\\n",
       "0       2018 Maruti Alto 800    20,086             1        Petrol     Manual   \n",
       "1           2021 Maruti Alto     4,066             1        Petrol     Manual   \n",
       "2           2019 Maruti Eeco    80,770             1        Petrol     Manual   \n",
       "3       2018 Maruti Alto 800    65,915             1        Petrol     Manual   \n",
       "4           2021 Maruti Alto     4,231             1        Petrol     Manual   \n",
       "...                      ...        ...          ...           ...        ...   \n",
       "3729         2015 Honda City  1,50,323             1        Petrol     Manual   \n",
       "3730    2019 Maruti Alto K10    57,875             1  Petrol + CNG     Manual   \n",
       "3731      2018 Ford Ecosport    18,482             1        Diesel     Manual   \n",
       "3732      2018 Ford Ecosport    17,005             2        Petrol     Manual   \n",
       "3733  2017 Hyundai Grand i10    11,203             1        Petrol  Automatic   \n",
       "\n",
       "         Price     emi   Location  \n",
       "0     3,12,999   6,962  Ahmedabad  \n",
       "1     3,75,499   8,353  Ahmedabad  \n",
       "2     4,32,199   9,614  Ahmedabad  \n",
       "3     3,22,499   7,174  Ahmedabad  \n",
       "4     3,78,699   8,424  Ahmedabad  \n",
       "...        ...     ...        ...  \n",
       "3729  5,41,899  12,054       Pune  \n",
       "3730  4,23,599   9,423       Pune  \n",
       "3731  9,99,599  22,236       Pune  \n",
       "3732  9,32,799  20,750       Pune  \n",
       "3733  6,38,599  14,205       Pune  \n",
       "\n",
       "[3734 rows x 8 columns]"
      ]
     },
     "execution_count": 19,
     "metadata": {},
     "output_type": "execute_result"
    }
   ],
   "source": [
    "# Dropping the unrequired column\n",
    "df.drop(['Unnamed: 0'],axis=1,inplace=True)\n",
    "df"
   ]
  },
  {
   "cell_type": "code",
   "execution_count": 20,
   "id": "dd644b79",
   "metadata": {},
   "outputs": [
    {
     "data": {
      "text/plain": [
       "brands         0\n",
       "kmdriven       0\n",
       "no_of_owner    0\n",
       "Fuel           0\n",
       "varient        0\n",
       "Price          0\n",
       "emi            0\n",
       "Location       0\n",
       "dtype: int64"
      ]
     },
     "execution_count": 20,
     "metadata": {},
     "output_type": "execute_result"
    }
   ],
   "source": [
    "df.isnull().sum()"
   ]
  },
  {
   "cell_type": "code",
   "execution_count": 21,
   "id": "ea2183e4",
   "metadata": {},
   "outputs": [
    {
     "data": {
      "text/plain": [
       "<AxesSubplot:>"
      ]
     },
     "execution_count": 21,
     "metadata": {},
     "output_type": "execute_result"
    },
    {
     "data": {
      "image/png": "[encoded data removed]",
      "text/plain": [
       "<Figure size 432x288 with 2 Axes>"
      ]
     },
     "metadata": {
      "needs_background": "light"
     },
     "output_type": "display_data"
    }
   ],
   "source": [
    "# plotting heatmap\n",
    "sns.heatmap(df.isnull())"
   ]
  },
  {
   "cell_type": "markdown",
   "id": "75e800ba",
   "metadata": {},
   "source": [
    "Now we can see that there are no null values in our dataset."
   ]
  },
  {
   "cell_type": "code",
   "execution_count": 22,
   "id": "9b43e64f",
   "metadata": {},
   "outputs": [
    {
     "data": {
      "text/plain": [
       "brands          467\n",
       "kmdriven       3595\n",
       "no_of_owner       4\n",
       "Fuel              4\n",
       "varient           2\n",
       "Price          2747\n",
       "emi            2747\n",
       "Location          8\n",
       "dtype: int64"
      ]
     },
     "execution_count": 22,
     "metadata": {},
     "output_type": "execute_result"
    }
   ],
   "source": [
    "# checking the unique values\n",
    "df.nunique()"
   ]
  },
  {
   "cell_type": "code",
   "execution_count": 23,
   "id": "b87cdc8b",
   "metadata": {},
   "outputs": [
    {
     "data": {
      "text/html": [
       "<div>\n",
       "<style scoped>\n",
       "    .dataframe tbody tr th:only-of-type {\n",
       "        vertical-align: middle;\n",
       "    }\n",
       "\n",
       "    .dataframe tbody tr th {\n",
       "        vertical-align: top;\n",
       "    }\n",
       "\n",
       "    .dataframe thead th {\n",
       "        text-align: right;\n",
       "    }\n",
       "</style>\n",
       "<table border=\"1\" class=\"dataframe\">\n",
       "  <thead>\n",
       "    <tr style=\"text-align: right;\">\n",
       "      <th></th>\n",
       "      <th>brands</th>\n",
       "      <th>kmdriven</th>\n",
       "      <th>no_of_owner</th>\n",
       "      <th>Fuel</th>\n",
       "      <th>varient</th>\n",
       "      <th>Price</th>\n",
       "      <th>emi</th>\n",
       "      <th>Location</th>\n",
       "    </tr>\n",
       "  </thead>\n",
       "  <tbody>\n",
       "    <tr>\n",
       "      <th>0</th>\n",
       "      <td>326</td>\n",
       "      <td>724</td>\n",
       "      <td>0</td>\n",
       "      <td>1</td>\n",
       "      <td>1</td>\n",
       "      <td>498</td>\n",
       "      <td>2104</td>\n",
       "      <td>0</td>\n",
       "    </tr>\n",
       "    <tr>\n",
       "      <th>1</th>\n",
       "      <td>454</td>\n",
       "      <td>1789</td>\n",
       "      <td>0</td>\n",
       "      <td>1</td>\n",
       "      <td>1</td>\n",
       "      <td>760</td>\n",
       "      <td>2367</td>\n",
       "      <td>0</td>\n",
       "    </tr>\n",
       "    <tr>\n",
       "      <th>2</th>\n",
       "      <td>384</td>\n",
       "      <td>3307</td>\n",
       "      <td>0</td>\n",
       "      <td>1</td>\n",
       "      <td>1</td>\n",
       "      <td>1056</td>\n",
       "      <td>2662</td>\n",
       "      <td>0</td>\n",
       "    </tr>\n",
       "    <tr>\n",
       "      <th>3</th>\n",
       "      <td>326</td>\n",
       "      <td>2874</td>\n",
       "      <td>0</td>\n",
       "      <td>1</td>\n",
       "      <td>1</td>\n",
       "      <td>536</td>\n",
       "      <td>2142</td>\n",
       "      <td>0</td>\n",
       "    </tr>\n",
       "    <tr>\n",
       "      <th>4</th>\n",
       "      <td>454</td>\n",
       "      <td>1795</td>\n",
       "      <td>0</td>\n",
       "      <td>1</td>\n",
       "      <td>1</td>\n",
       "      <td>773</td>\n",
       "      <td>2380</td>\n",
       "      <td>0</td>\n",
       "    </tr>\n",
       "  </tbody>\n",
       "</table>\n",
       "</div>"
      ],
      "text/plain": [
       "   brands  kmdriven  no_of_owner  Fuel  varient  Price   emi  Location\n",
       "0     326       724            0     1        1    498  2104         0\n",
       "1     454      1789            0     1        1    760  2367         0\n",
       "2     384      3307            0     1        1   1056  2662         0\n",
       "3     326      2874            0     1        1    536  2142         0\n",
       "4     454      1795            0     1        1    773  2380         0"
      ]
     },
     "execution_count": 23,
     "metadata": {},
     "output_type": "execute_result"
    }
   ],
   "source": [
    "from sklearn.preprocessing import LabelEncoder\n",
    "\n",
    "df = df.copy()\n",
    "le = LabelEncoder()\n",
    "for column in df.columns:\n",
    "    df[column] = le.fit_transform(df[column])\n",
    "df.head() "
   ]
  },
  {
   "cell_type": "code",
   "execution_count": 24,
   "id": "8ce3547e",
   "metadata": {},
   "outputs": [
    {
     "data": {
      "text/plain": [
       "array([[<AxesSubplot:title={'center':'brands'}>,\n",
       "        <AxesSubplot:title={'center':'kmdriven'}>,\n",
       "        <AxesSubplot:title={'center':'no_of_owner'}>,\n",
       "        <AxesSubplot:title={'center':'Fuel'}>,\n",
       "        <AxesSubplot:title={'center':'varient'}>,\n",
       "        <AxesSubplot:title={'center':'Price'}>,\n",
       "        <AxesSubplot:title={'center':'emi'}>,\n",
       "        <AxesSubplot:title={'center':'Location'}>, <AxesSubplot:>,\n",
       "        <AxesSubplot:>],\n",
       "       [<AxesSubplot:>, <AxesSubplot:>, <AxesSubplot:>, <AxesSubplot:>,\n",
       "        <AxesSubplot:>, <AxesSubplot:>, <AxesSubplot:>, <AxesSubplot:>,\n",
       "        <AxesSubplot:>, <AxesSubplot:>],\n",
       "       [<AxesSubplot:>, <AxesSubplot:>, <AxesSubplot:>, <AxesSubplot:>,\n",
       "        <AxesSubplot:>, <AxesSubplot:>, <AxesSubplot:>, <AxesSubplot:>,\n",
       "        <AxesSubplot:>, <AxesSubplot:>],\n",
       "       [<AxesSubplot:>, <AxesSubplot:>, <AxesSubplot:>, <AxesSubplot:>,\n",
       "        <AxesSubplot:>, <AxesSubplot:>, <AxesSubplot:>, <AxesSubplot:>,\n",
       "        <AxesSubplot:>, <AxesSubplot:>],\n",
       "       [<AxesSubplot:>, <AxesSubplot:>, <AxesSubplot:>, <AxesSubplot:>,\n",
       "        <AxesSubplot:>, <AxesSubplot:>, <AxesSubplot:>, <AxesSubplot:>,\n",
       "        <AxesSubplot:>, <AxesSubplot:>],\n",
       "       [<AxesSubplot:>, <AxesSubplot:>, <AxesSubplot:>, <AxesSubplot:>,\n",
       "        <AxesSubplot:>, <AxesSubplot:>, <AxesSubplot:>, <AxesSubplot:>,\n",
       "        <AxesSubplot:>, <AxesSubplot:>],\n",
       "       [<AxesSubplot:>, <AxesSubplot:>, <AxesSubplot:>, <AxesSubplot:>,\n",
       "        <AxesSubplot:>, <AxesSubplot:>, <AxesSubplot:>, <AxesSubplot:>,\n",
       "        <AxesSubplot:>, <AxesSubplot:>],\n",
       "       [<AxesSubplot:>, <AxesSubplot:>, <AxesSubplot:>, <AxesSubplot:>,\n",
       "        <AxesSubplot:>, <AxesSubplot:>, <AxesSubplot:>, <AxesSubplot:>,\n",
       "        <AxesSubplot:>, <AxesSubplot:>],\n",
       "       [<AxesSubplot:>, <AxesSubplot:>, <AxesSubplot:>, <AxesSubplot:>,\n",
       "        <AxesSubplot:>, <AxesSubplot:>, <AxesSubplot:>, <AxesSubplot:>,\n",
       "        <AxesSubplot:>, <AxesSubplot:>],\n",
       "       [<AxesSubplot:>, <AxesSubplot:>, <AxesSubplot:>, <AxesSubplot:>,\n",
       "        <AxesSubplot:>, <AxesSubplot:>, <AxesSubplot:>, <AxesSubplot:>,\n",
       "        <AxesSubplot:>, <AxesSubplot:>]], dtype=object)"
      ]
     },
     "execution_count": 24,
     "metadata": {},
     "output_type": "execute_result"
    },
    {
     "data": {
      "image/png": "[encoded data removed]",
      "text/plain": [
       "<Figure size 1440x1440 with 100 Axes>"
      ]
     },
     "metadata": {
      "needs_background": "light"
     },
     "output_type": "display_data"
    }
   ],
   "source": [
    "# plotting a histogram\n",
    "df.hist(figsize=(20,20), grid = True, layout = (10,10), bins = 30)"
   ]
  },
  {
   "cell_type": "code",
   "execution_count": 25,
   "id": "1dd6b99b",
   "metadata": {},
   "outputs": [
    {
     "data": {
      "text/html": [
       "<div>\n",
       "<style scoped>\n",
       "    .dataframe tbody tr th:only-of-type {\n",
       "        vertical-align: middle;\n",
       "    }\n",
       "\n",
       "    .dataframe tbody tr th {\n",
       "        vertical-align: top;\n",
       "    }\n",
       "\n",
       "    .dataframe thead th {\n",
       "        text-align: right;\n",
       "    }\n",
       "</style>\n",
       "<table border=\"1\" class=\"dataframe\">\n",
       "  <thead>\n",
       "    <tr style=\"text-align: right;\">\n",
       "      <th></th>\n",
       "      <th>brands</th>\n",
       "      <th>kmdriven</th>\n",
       "      <th>no_of_owner</th>\n",
       "      <th>Fuel</th>\n",
       "      <th>varient</th>\n",
       "      <th>Price</th>\n",
       "      <th>emi</th>\n",
       "      <th>Location</th>\n",
       "    </tr>\n",
       "  </thead>\n",
       "  <tbody>\n",
       "    <tr>\n",
       "      <th>brands</th>\n",
       "      <td>1.000000</td>\n",
       "      <td>-0.209141</td>\n",
       "      <td>-0.205775</td>\n",
       "      <td>0.144148</td>\n",
       "      <td>-0.121412</td>\n",
       "      <td>0.251169</td>\n",
       "      <td>-0.154651</td>\n",
       "      <td>-0.082870</td>\n",
       "    </tr>\n",
       "    <tr>\n",
       "      <th>kmdriven</th>\n",
       "      <td>-0.209141</td>\n",
       "      <td>1.000000</td>\n",
       "      <td>0.031856</td>\n",
       "      <td>-0.169938</td>\n",
       "      <td>0.024494</td>\n",
       "      <td>0.004603</td>\n",
       "      <td>0.003040</td>\n",
       "      <td>0.000247</td>\n",
       "    </tr>\n",
       "    <tr>\n",
       "      <th>no_of_owner</th>\n",
       "      <td>-0.205775</td>\n",
       "      <td>0.031856</td>\n",
       "      <td>1.000000</td>\n",
       "      <td>0.020941</td>\n",
       "      <td>-0.031584</td>\n",
       "      <td>-0.059078</td>\n",
       "      <td>0.011229</td>\n",
       "      <td>-0.046044</td>\n",
       "    </tr>\n",
       "    <tr>\n",
       "      <th>Fuel</th>\n",
       "      <td>0.144148</td>\n",
       "      <td>-0.169938</td>\n",
       "      <td>0.020941</td>\n",
       "      <td>1.000000</td>\n",
       "      <td>-0.051934</td>\n",
       "      <td>-0.125431</td>\n",
       "      <td>0.001840</td>\n",
       "      <td>-0.050202</td>\n",
       "    </tr>\n",
       "    <tr>\n",
       "      <th>varient</th>\n",
       "      <td>-0.121412</td>\n",
       "      <td>0.024494</td>\n",
       "      <td>-0.031584</td>\n",
       "      <td>-0.051934</td>\n",
       "      <td>1.000000</td>\n",
       "      <td>0.061503</td>\n",
       "      <td>-0.006590</td>\n",
       "      <td>-0.114468</td>\n",
       "    </tr>\n",
       "    <tr>\n",
       "      <th>Price</th>\n",
       "      <td>0.251169</td>\n",
       "      <td>0.004603</td>\n",
       "      <td>-0.059078</td>\n",
       "      <td>-0.125431</td>\n",
       "      <td>0.061503</td>\n",
       "      <td>1.000000</td>\n",
       "      <td>-0.470150</td>\n",
       "      <td>0.035243</td>\n",
       "    </tr>\n",
       "    <tr>\n",
       "      <th>emi</th>\n",
       "      <td>-0.154651</td>\n",
       "      <td>0.003040</td>\n",
       "      <td>0.011229</td>\n",
       "      <td>0.001840</td>\n",
       "      <td>-0.006590</td>\n",
       "      <td>-0.470150</td>\n",
       "      <td>1.000000</td>\n",
       "      <td>-0.015526</td>\n",
       "    </tr>\n",
       "    <tr>\n",
       "      <th>Location</th>\n",
       "      <td>-0.082870</td>\n",
       "      <td>0.000247</td>\n",
       "      <td>-0.046044</td>\n",
       "      <td>-0.050202</td>\n",
       "      <td>-0.114468</td>\n",
       "      <td>0.035243</td>\n",
       "      <td>-0.015526</td>\n",
       "      <td>1.000000</td>\n",
       "    </tr>\n",
       "  </tbody>\n",
       "</table>\n",
       "</div>"
      ],
      "text/plain": [
       "               brands  kmdriven  no_of_owner      Fuel   varient     Price  \\\n",
       "brands       1.000000 -0.209141    -0.205775  0.144148 -0.121412  0.251169   \n",
       "kmdriven    -0.209141  1.000000     0.031856 -0.169938  0.024494  0.004603   \n",
       "no_of_owner -0.205775  0.031856     1.000000  0.020941 -0.031584 -0.059078   \n",
       "Fuel         0.144148 -0.169938     0.020941  1.000000 -0.051934 -0.125431   \n",
       "varient     -0.121412  0.024494    -0.031584 -0.051934  1.000000  0.061503   \n",
       "Price        0.251169  0.004603    -0.059078 -0.125431  0.061503  1.000000   \n",
       "emi         -0.154651  0.003040     0.011229  0.001840 -0.006590 -0.470150   \n",
       "Location    -0.082870  0.000247    -0.046044 -0.050202 -0.114468  0.035243   \n",
       "\n",
       "                  emi  Location  \n",
       "brands      -0.154651 -0.082870  \n",
       "kmdriven     0.003040  0.000247  \n",
       "no_of_owner  0.011229 -0.046044  \n",
       "Fuel         0.001840 -0.050202  \n",
       "varient     -0.006590 -0.114468  \n",
       "Price       -0.470150  0.035243  \n",
       "emi          1.000000 -0.015526  \n",
       "Location    -0.015526  1.000000  "
      ]
     },
     "execution_count": 25,
     "metadata": {},
     "output_type": "execute_result"
    }
   ],
   "source": [
    "# Checking Correlation\n",
    "df.corr()"
   ]
  },
  {
   "cell_type": "code",
   "execution_count": 26,
   "id": "afc72dca",
   "metadata": {},
   "outputs": [
    {
     "data": {
      "text/plain": [
       "<AxesSubplot:>"
      ]
     },
     "execution_count": 26,
     "metadata": {},
     "output_type": "execute_result"
    },
    {
     "data": {
      "image/png": "[encoded data removed]",
      "text/plain": [
       "<Figure size 1368x720 with 2 Axes>"
      ]
     },
     "metadata": {},
     "output_type": "display_data"
    }
   ],
   "source": [
    "# Plotting correlation heatmap\n",
    "plt.figure(figsize=[19,10],facecolor='white')\n",
    "sns.heatmap(df.corr(),annot=True)"
   ]
  },
  {
   "cell_type": "code",
   "execution_count": 28,
   "id": "ae735e43",
   "metadata": {},
   "outputs": [
    {
     "data": {
      "text/plain": [
       "594     18\n",
       "623     13\n",
       "1585    12\n",
       "1633     8\n",
       "1571     8\n",
       "        ..\n",
       "1312     1\n",
       "1314     1\n",
       "1318     1\n",
       "1322     1\n",
       "2047     1\n",
       "Name: Price, Length: 2747, dtype: int64"
      ]
     },
     "execution_count": 28,
     "metadata": {},
     "output_type": "execute_result"
    }
   ],
   "source": [
    "# Checking the target Variable\n",
    "df['Price'].value_counts()"
   ]
  },
  {
   "cell_type": "code",
   "execution_count": 29,
   "id": "ccc2ce12",
   "metadata": {},
   "outputs": [
    {
     "data": {
      "text/plain": [
       "<AxesSubplot:xlabel='Price', ylabel='count'>"
      ]
     },
     "execution_count": 29,
     "metadata": {},
     "output_type": "execute_result"
    },
    {
     "data": {
      "image/png": "[encoded data removed]",
      "text/plain": [
       "<Figure size 432x288 with 1 Axes>"
      ]
     },
     "metadata": {
      "needs_background": "light"
     },
     "output_type": "display_data"
    }
   ],
   "source": [
    "sns.countplot(df['Price'])"
   ]
  },
  {
   "cell_type": "code",
   "execution_count": 30,
   "id": "848894fb",
   "metadata": {},
   "outputs": [
    {
     "data": {
      "image/png": "[encoded data removed]",
      "text/plain": [
       "<Figure size 576x432 with 1 Axes>"
      ]
     },
     "metadata": {
      "needs_background": "light"
     },
     "output_type": "display_data"
    },
    {
     "data": {
      "text/plain": [
       "252    77\n",
       "267    68\n",
       "205    63\n",
       "216    62\n",
       "130    55\n",
       "       ..\n",
       "25      1\n",
       "27      1\n",
       "29      1\n",
       "31      1\n",
       "465     1\n",
       "Name: brands, Length: 467, dtype: int64"
      ]
     },
     "execution_count": 30,
     "metadata": {},
     "output_type": "execute_result"
    }
   ],
   "source": [
    "# Let's check the column brands\n",
    "\n",
    "plt.subplots(figsize=(8,6))\n",
    "sns.countplot(x=\"brands\", data=df)\n",
    "plt.title(\"Countplot of brands\")\n",
    "plt.xlabel('brands')\n",
    "plt.ylabel(\"count\")\n",
    "plt.show()\n",
    "\n",
    "df['brands'].value_counts()"
   ]
  },
  {
   "cell_type": "code",
   "execution_count": 31,
   "id": "dc24704d",
   "metadata": {},
   "outputs": [
    {
     "data": {
      "image/png": "[encoded data removed]",
      "text/plain": [
       "<Figure size 576x432 with 1 Axes>"
      ]
     },
     "metadata": {
      "needs_background": "light"
     },
     "output_type": "display_data"
    },
    {
     "data": {
      "text/plain": [
       "1    3136\n",
       "0     598\n",
       "Name: varient, dtype: int64"
      ]
     },
     "execution_count": 31,
     "metadata": {},
     "output_type": "execute_result"
    }
   ],
   "source": [
    "plt.subplots(figsize=(8,6))\n",
    "sns.countplot(x=\"varient\", data=df)\n",
    "plt.title(\"Countplot of variant\")\n",
    "plt.xlabel('varient')\n",
    "plt.ylabel(\"count\")\n",
    "plt.show()\n",
    "\n",
    "df['varient'].value_counts()"
   ]
  },
  {
   "cell_type": "code",
   "execution_count": 33,
   "id": "6fb45da1",
   "metadata": {},
   "outputs": [
    {
     "data": {
      "image/png": "[encoded data removed]",
      "text/plain": [
       "<Figure size 576x432 with 1 Axes>"
      ]
     },
     "metadata": {
      "needs_background": "light"
     },
     "output_type": "display_data"
    },
    {
     "data": {
      "text/plain": [
       "787     3\n",
       "1150    3\n",
       "1998    3\n",
       "390     2\n",
       "1789    2\n",
       "       ..\n",
       "625     1\n",
       "2676    1\n",
       "629     1\n",
       "2680    1\n",
       "2047    1\n",
       "Name: kmdriven, Length: 3595, dtype: int64"
      ]
     },
     "execution_count": 33,
     "metadata": {},
     "output_type": "execute_result"
    }
   ],
   "source": [
    "# checking  the  value count of column driven_kms\n",
    "\n",
    "plt.subplots(figsize=(8,6))\n",
    "sns.countplot(x=\"kmdriven\", data=df)\n",
    "plt.title(\"Countplot of kmdriven\")\n",
    "plt.xlabel('kmdriven')\n",
    "plt.ylabel(\"count\")\n",
    "plt.show()\n",
    "\n",
    "df['kmdriven'].value_counts()"
   ]
  },
  {
   "cell_type": "code",
   "execution_count": 34,
   "id": "ceebd149",
   "metadata": {},
   "outputs": [
    {
     "data": {
      "image/png": "[encoded data removed]",
      "text/plain": [
       "<Figure size 576x432 with 1 Axes>"
      ]
     },
     "metadata": {
      "needs_background": "light"
     },
     "output_type": "display_data"
    },
    {
     "data": {
      "text/plain": [
       "0    2921\n",
       "1     729\n",
       "2      76\n",
       "3       8\n",
       "Name: no_of_owner, dtype: int64"
      ]
     },
     "execution_count": 34,
     "metadata": {},
     "output_type": "execute_result"
    }
   ],
   "source": [
    "# checking  the  value count of column owners\n",
    "\n",
    "plt.subplots(figsize=(8,6))\n",
    "sns.countplot(x=\"no_of_owner\", data=df)\n",
    "plt.title(\"Countplot of owners\")\n",
    "plt.xlabel('no_of_owner')\n",
    "plt.ylabel(\"count\")\n",
    "plt.show()\n",
    "\n",
    "df['no_of_owner'].value_counts()"
   ]
  },
  {
   "cell_type": "code",
   "execution_count": 36,
   "id": "3b629254",
   "metadata": {},
   "outputs": [
    {
     "data": {
      "image/png": "[encoded data removed]",
      "text/plain": [
       "<Figure size 576x432 with 1 Axes>"
      ]
     },
     "metadata": {
      "needs_background": "light"
     },
     "output_type": "display_data"
    },
    {
     "data": {
      "text/plain": [
       "1    2634\n",
       "0    1084\n",
       "2      15\n",
       "3       1\n",
       "Name: Fuel, dtype: int64"
      ]
     },
     "execution_count": 36,
     "metadata": {},
     "output_type": "execute_result"
    }
   ],
   "source": [
    "# checking  the  value count of column fuel\n",
    "\n",
    "plt.subplots(figsize=(8,6))\n",
    "sns.countplot(x=\"Fuel\", data=df)\n",
    "plt.title(\"Countplot of fuel\")\n",
    "plt.xlabel('Fuel')\n",
    "plt.ylabel(\"count\")\n",
    "plt.show()\n",
    "\n",
    "df['Fuel'].value_counts()"
   ]
  },
  {
   "cell_type": "code",
   "execution_count": 37,
   "id": "81d47248",
   "metadata": {},
   "outputs": [
    {
     "data": {
      "image/png": "[encoded data removed]",
      "text/plain": [
       "<Figure size 576x432 with 1 Axes>"
      ]
     },
     "metadata": {
      "needs_background": "light"
     },
     "output_type": "display_data"
    },
    {
     "data": {
      "text/plain": [
       "2200    18\n",
       "2229    13\n",
       "444     12\n",
       "492      8\n",
       "430      8\n",
       "        ..\n",
       "1498     1\n",
       "1500     1\n",
       "1502     1\n",
       "1504     1\n",
       "2047     1\n",
       "Name: emi, Length: 2747, dtype: int64"
      ]
     },
     "execution_count": 37,
     "metadata": {},
     "output_type": "execute_result"
    }
   ],
   "source": [
    "plt.subplots(figsize=(8,6))\n",
    "sns.countplot(x=\"emi\", data=df)\n",
    "plt.title(\"Countplot of EMI\")\n",
    "plt.xlabel('emi')\n",
    "plt.ylabel(\"count\")\n",
    "plt.show()\n",
    "\n",
    "df['emi'].value_counts()"
   ]
  },
  {
   "cell_type": "code",
   "execution_count": 38,
   "id": "f168b314",
   "metadata": {},
   "outputs": [
    {
     "data": {
      "image/png": "[encoded data removed]",
      "text/plain": [
       "<Figure size 432x288 with 1 Axes>"
      ]
     },
     "metadata": {
      "needs_background": "light"
     },
     "output_type": "display_data"
    },
    {
     "data": {
      "image/png": "[encoded data removed]",
      "text/plain": [
       "<Figure size 432x288 with 1 Axes>"
      ]
     },
     "metadata": {
      "needs_background": "light"
     },
     "output_type": "display_data"
    },
    {
     "data": {
      "image/png": "[encoded data removed]",
      "text/plain": [
       "<Figure size 432x288 with 1 Axes>"
      ]
     },
     "metadata": {
      "needs_background": "light"
     },
     "output_type": "display_data"
    },
    {
     "data": {
      "image/png": "[encoded data removed]",
      "text/plain": [
       "<Figure size 432x288 with 1 Axes>"
      ]
     },
     "metadata": {
      "needs_background": "light"
     },
     "output_type": "display_data"
    },
    {
     "data": {
      "image/png": "[encoded data removed]",
      "text/plain": [
       "<Figure size 432x288 with 1 Axes>"
      ]
     },
     "metadata": {
      "needs_background": "light"
     },
     "output_type": "display_data"
    },
    {
     "data": {
      "image/png": "[encoded data removed]",
      "text/plain": [
       "<Figure size 432x288 with 1 Axes>"
      ]
     },
     "metadata": {
      "needs_background": "light"
     },
     "output_type": "display_data"
    },
    {
     "data": {
      "image/png": "[encoded data removed]",
      "text/plain": [
       "<Figure size 432x288 with 1 Axes>"
      ]
     },
     "metadata": {
      "needs_background": "light"
     },
     "output_type": "display_data"
    },
    {
     "data": {
      "image/png": "[encoded data removed]",
      "text/plain": [
       "<Figure size 432x288 with 1 Axes>"
      ]
     },
     "metadata": {
      "needs_background": "light"
     },
     "output_type": "display_data"
    }
   ],
   "source": [
    "# plotting the Scatter plot between all feature variables and target variable\n",
    "\n",
    "for col in df.describe().columns:\n",
    "    df=df.copy()\n",
    "    plt.scatter(df[col],df['Price'])\n",
    "    plt.xlabel(col)\n",
    "    plt.ylabel('Price')\n",
    "    plt.show()"
   ]
  },
  {
   "cell_type": "code",
   "execution_count": 39,
   "id": "f820b95e",
   "metadata": {},
   "outputs": [
    {
     "data": {
      "text/html": [
       "<div>\n",
       "<style scoped>\n",
       "    .dataframe tbody tr th:only-of-type {\n",
       "        vertical-align: middle;\n",
       "    }\n",
       "\n",
       "    .dataframe tbody tr th {\n",
       "        vertical-align: top;\n",
       "    }\n",
       "\n",
       "    .dataframe thead th {\n",
       "        text-align: right;\n",
       "    }\n",
       "</style>\n",
       "<table border=\"1\" class=\"dataframe\">\n",
       "  <thead>\n",
       "    <tr style=\"text-align: right;\">\n",
       "      <th></th>\n",
       "      <th>brands</th>\n",
       "      <th>kmdriven</th>\n",
       "      <th>no_of_owner</th>\n",
       "      <th>Fuel</th>\n",
       "      <th>varient</th>\n",
       "      <th>Price</th>\n",
       "      <th>emi</th>\n",
       "      <th>Location</th>\n",
       "    </tr>\n",
       "  </thead>\n",
       "  <tbody>\n",
       "    <tr>\n",
       "      <th>count</th>\n",
       "      <td>3734.000000</td>\n",
       "      <td>3734.000000</td>\n",
       "      <td>3734.000000</td>\n",
       "      <td>3734.000000</td>\n",
       "      <td>3734.000000</td>\n",
       "      <td>3734.000000</td>\n",
       "      <td>3734.000000</td>\n",
       "      <td>3734.000000</td>\n",
       "    </tr>\n",
       "    <tr>\n",
       "      <th>mean</th>\n",
       "      <td>244.979646</td>\n",
       "      <td>1792.422603</td>\n",
       "      <td>0.242367</td>\n",
       "      <td>0.714247</td>\n",
       "      <td>0.839850</td>\n",
       "      <td>1367.373326</td>\n",
       "      <td>1368.982057</td>\n",
       "      <td>3.477236</td>\n",
       "    </tr>\n",
       "    <tr>\n",
       "      <th>std</th>\n",
       "      <td>107.224014</td>\n",
       "      <td>1033.391695</td>\n",
       "      <td>0.487084</td>\n",
       "      <td>0.462381</td>\n",
       "      <td>0.366794</td>\n",
       "      <td>751.413446</td>\n",
       "      <td>827.445697</td>\n",
       "      <td>2.351827</td>\n",
       "    </tr>\n",
       "    <tr>\n",
       "      <th>min</th>\n",
       "      <td>0.000000</td>\n",
       "      <td>0.000000</td>\n",
       "      <td>0.000000</td>\n",
       "      <td>0.000000</td>\n",
       "      <td>0.000000</td>\n",
       "      <td>0.000000</td>\n",
       "      <td>0.000000</td>\n",
       "      <td>0.000000</td>\n",
       "    </tr>\n",
       "    <tr>\n",
       "      <th>25%</th>\n",
       "      <td>157.000000</td>\n",
       "      <td>899.250000</td>\n",
       "      <td>0.000000</td>\n",
       "      <td>0.000000</td>\n",
       "      <td>1.000000</td>\n",
       "      <td>738.250000</td>\n",
       "      <td>619.250000</td>\n",
       "      <td>2.000000</td>\n",
       "    </tr>\n",
       "    <tr>\n",
       "      <th>50%</th>\n",
       "      <td>252.000000</td>\n",
       "      <td>1789.500000</td>\n",
       "      <td>0.000000</td>\n",
       "      <td>1.000000</td>\n",
       "      <td>1.000000</td>\n",
       "      <td>1361.000000</td>\n",
       "      <td>1340.500000</td>\n",
       "      <td>3.000000</td>\n",
       "    </tr>\n",
       "    <tr>\n",
       "      <th>75%</th>\n",
       "      <td>332.000000</td>\n",
       "      <td>2687.750000</td>\n",
       "      <td>0.000000</td>\n",
       "      <td>1.000000</td>\n",
       "      <td>1.000000</td>\n",
       "      <td>1989.750000</td>\n",
       "      <td>2142.000000</td>\n",
       "      <td>6.000000</td>\n",
       "    </tr>\n",
       "    <tr>\n",
       "      <th>max</th>\n",
       "      <td>466.000000</td>\n",
       "      <td>3594.000000</td>\n",
       "      <td>3.000000</td>\n",
       "      <td>3.000000</td>\n",
       "      <td>1.000000</td>\n",
       "      <td>2746.000000</td>\n",
       "      <td>2746.000000</td>\n",
       "      <td>7.000000</td>\n",
       "    </tr>\n",
       "  </tbody>\n",
       "</table>\n",
       "</div>"
      ],
      "text/plain": [
       "            brands     kmdriven  no_of_owner         Fuel      varient  \\\n",
       "count  3734.000000  3734.000000  3734.000000  3734.000000  3734.000000   \n",
       "mean    244.979646  1792.422603     0.242367     0.714247     0.839850   \n",
       "std     107.224014  1033.391695     0.487084     0.462381     0.366794   \n",
       "min       0.000000     0.000000     0.000000     0.000000     0.000000   \n",
       "25%     157.000000   899.250000     0.000000     0.000000     1.000000   \n",
       "50%     252.000000  1789.500000     0.000000     1.000000     1.000000   \n",
       "75%     332.000000  2687.750000     0.000000     1.000000     1.000000   \n",
       "max     466.000000  3594.000000     3.000000     3.000000     1.000000   \n",
       "\n",
       "             Price          emi     Location  \n",
       "count  3734.000000  3734.000000  3734.000000  \n",
       "mean   1367.373326  1368.982057     3.477236  \n",
       "std     751.413446   827.445697     2.351827  \n",
       "min       0.000000     0.000000     0.000000  \n",
       "25%     738.250000   619.250000     2.000000  \n",
       "50%    1361.000000  1340.500000     3.000000  \n",
       "75%    1989.750000  2142.000000     6.000000  \n",
       "max    2746.000000  2746.000000     7.000000  "
      ]
     },
     "execution_count": 39,
     "metadata": {},
     "output_type": "execute_result"
    }
   ],
   "source": [
    "# Checking the Statistical Summary\n",
    "df.describe()"
   ]
  },
  {
   "cell_type": "code",
   "execution_count": 40,
   "id": "74029a47",
   "metadata": {},
   "outputs": [
    {
     "data": {
      "text/plain": [
       "brands           AxesSubplot(0.125,0.816017;0.0824468x0.0639831)\n",
       "kmdriven       AxesSubplot(0.223936,0.816017;0.0824468x0.0639...\n",
       "no_of_owner    AxesSubplot(0.322872,0.816017;0.0824468x0.0639...\n",
       "Fuel           AxesSubplot(0.421809,0.816017;0.0824468x0.0639...\n",
       "varient        AxesSubplot(0.520745,0.816017;0.0824468x0.0639...\n",
       "Price          AxesSubplot(0.619681,0.816017;0.0824468x0.0639...\n",
       "emi            AxesSubplot(0.718617,0.816017;0.0824468x0.0639...\n",
       "Location       AxesSubplot(0.817553,0.816017;0.0824468x0.0639...\n",
       "dtype: object"
      ]
     },
     "execution_count": 40,
     "metadata": {},
     "output_type": "execute_result"
    },
    {
     "data": {
      "image/png": "[encoded data removed]",
      "text/plain": [
       "<Figure size 1296x864 with 80 Axes>"
      ]
     },
     "metadata": {
      "needs_background": "light"
     },
     "output_type": "display_data"
    }
   ],
   "source": [
    "# Checking Outliers\n",
    "df.plot(kind='box',subplots=True,layout=(10,8),sharex=False,fontsize=1,figsize=(18,12))"
   ]
  },
  {
   "cell_type": "markdown",
   "id": "e84a48cb",
   "metadata": {},
   "source": [
    "We can see there are outliers in our dataset which we need to remove before moving further."
   ]
  },
  {
   "cell_type": "code",
   "execution_count": 41,
   "id": "7b567145",
   "metadata": {},
   "outputs": [
    {
     "data": {
      "text/plain": [
       "array([[0.75571882, 1.03403744, 0.49765518, ..., 1.15713895, 0.88841647,\n",
       "        1.47872334],\n",
       "       [1.94964113, 0.00331245, 0.49765518, ..., 0.80841603, 1.20630467,\n",
       "        1.47872334],\n",
       "       [1.29671487, 1.46583358, 0.49765518, ..., 0.41443899, 1.56287128,\n",
       "        1.47872334],\n",
       "       ...,\n",
       "       [0.52253086, 1.13178694, 0.49765518, ..., 1.83495694, 0.28648368,\n",
       "        1.49808432],\n",
       "       [0.52253086, 1.20340539, 1.55565359, ..., 1.76042074, 0.21879646,\n",
       "        1.49808432],\n",
       "       [0.06548247, 1.47052285, 0.49765518, ..., 0.8353733 , 0.62245901,\n",
       "        1.49808432]])"
      ]
     },
     "execution_count": 41,
     "metadata": {},
     "output_type": "execute_result"
    }
   ],
   "source": [
    "# Removing outliers\n",
    "from scipy.stats import zscore\n",
    "z=np.abs(zscore(df))\n",
    "z"
   ]
  },
  {
   "cell_type": "code",
   "execution_count": 42,
   "id": "08d89c55",
   "metadata": {},
   "outputs": [
    {
     "name": "stdout",
     "output_type": "stream",
     "text": [
      "(array([  56,   58,   70,  125,  199,  450,  478,  497,  528,  585,  592,\n",
      "        609,  618,  641,  671,  686,  686,  711,  785,  790,  805,  819,\n",
      "        834,  849,  898,  928,  965, 1022, 1057, 1088, 1093, 1129, 1136,\n",
      "       1153, 1157, 1230, 1244, 1380, 1390, 1427, 1587, 1763, 1902, 1915,\n",
      "       1938, 2052, 2285, 2322, 2440, 2458, 2468, 2479, 2561, 2642, 2646,\n",
      "       2735, 2746, 2764, 2883, 2891, 2954, 3041, 3087, 3106, 3131, 3137,\n",
      "       3146, 3151, 3153, 3193, 3201, 3222, 3267, 3282, 3296, 3310, 3434,\n",
      "       3445, 3516, 3542, 3573, 3647, 3663, 3674, 3707], dtype=int64), array([2, 2, 2, 2, 2, 2, 2, 2, 2, 2, 2, 2, 2, 2, 2, 2, 3, 2, 2, 2, 2, 2,\n",
      "       2, 2, 2, 2, 2, 2, 2, 2, 2, 2, 2, 2, 2, 2, 2, 2, 2, 2, 2, 2, 2, 2,\n",
      "       2, 2, 2, 2, 2, 2, 2, 2, 2, 2, 2, 2, 2, 2, 2, 2, 2, 2, 2, 2, 2, 2,\n",
      "       2, 2, 2, 2, 2, 2, 2, 2, 2, 2, 2, 2, 2, 2, 2, 2, 2, 2, 2],\n",
      "      dtype=int64))\n"
     ]
    }
   ],
   "source": [
    "threshold=3\n",
    "print(np.where(z>3))"
   ]
  },
  {
   "cell_type": "code",
   "execution_count": 43,
   "id": "356ef159",
   "metadata": {},
   "outputs": [
    {
     "data": {
      "text/html": [
       "<div>\n",
       "<style scoped>\n",
       "    .dataframe tbody tr th:only-of-type {\n",
       "        vertical-align: middle;\n",
       "    }\n",
       "\n",
       "    .dataframe tbody tr th {\n",
       "        vertical-align: top;\n",
       "    }\n",
       "\n",
       "    .dataframe thead th {\n",
       "        text-align: right;\n",
       "    }\n",
       "</style>\n",
       "<table border=\"1\" class=\"dataframe\">\n",
       "  <thead>\n",
       "    <tr style=\"text-align: right;\">\n",
       "      <th></th>\n",
       "      <th>brands</th>\n",
       "      <th>kmdriven</th>\n",
       "      <th>no_of_owner</th>\n",
       "      <th>Fuel</th>\n",
       "      <th>varient</th>\n",
       "      <th>Price</th>\n",
       "      <th>emi</th>\n",
       "      <th>Location</th>\n",
       "    </tr>\n",
       "  </thead>\n",
       "  <tbody>\n",
       "    <tr>\n",
       "      <th>0</th>\n",
       "      <td>326</td>\n",
       "      <td>724</td>\n",
       "      <td>0</td>\n",
       "      <td>1</td>\n",
       "      <td>1</td>\n",
       "      <td>498</td>\n",
       "      <td>2104</td>\n",
       "      <td>0</td>\n",
       "    </tr>\n",
       "    <tr>\n",
       "      <th>1</th>\n",
       "      <td>454</td>\n",
       "      <td>1789</td>\n",
       "      <td>0</td>\n",
       "      <td>1</td>\n",
       "      <td>1</td>\n",
       "      <td>760</td>\n",
       "      <td>2367</td>\n",
       "      <td>0</td>\n",
       "    </tr>\n",
       "    <tr>\n",
       "      <th>2</th>\n",
       "      <td>384</td>\n",
       "      <td>3307</td>\n",
       "      <td>0</td>\n",
       "      <td>1</td>\n",
       "      <td>1</td>\n",
       "      <td>1056</td>\n",
       "      <td>2662</td>\n",
       "      <td>0</td>\n",
       "    </tr>\n",
       "    <tr>\n",
       "      <th>3</th>\n",
       "      <td>326</td>\n",
       "      <td>2874</td>\n",
       "      <td>0</td>\n",
       "      <td>1</td>\n",
       "      <td>1</td>\n",
       "      <td>536</td>\n",
       "      <td>2142</td>\n",
       "      <td>0</td>\n",
       "    </tr>\n",
       "    <tr>\n",
       "      <th>4</th>\n",
       "      <td>454</td>\n",
       "      <td>1795</td>\n",
       "      <td>0</td>\n",
       "      <td>1</td>\n",
       "      <td>1</td>\n",
       "      <td>773</td>\n",
       "      <td>2380</td>\n",
       "      <td>0</td>\n",
       "    </tr>\n",
       "    <tr>\n",
       "      <th>...</th>\n",
       "      <td>...</td>\n",
       "      <td>...</td>\n",
       "      <td>...</td>\n",
       "      <td>...</td>\n",
       "      <td>...</td>\n",
       "      <td>...</td>\n",
       "      <td>...</td>\n",
       "      <td>...</td>\n",
       "    </tr>\n",
       "    <tr>\n",
       "      <th>3729</th>\n",
       "      <td>152</td>\n",
       "      <td>167</td>\n",
       "      <td>0</td>\n",
       "      <td>1</td>\n",
       "      <td>1</td>\n",
       "      <td>1604</td>\n",
       "      <td>463</td>\n",
       "      <td>7</td>\n",
       "    </tr>\n",
       "    <tr>\n",
       "      <th>3730</th>\n",
       "      <td>379</td>\n",
       "      <td>2589</td>\n",
       "      <td>0</td>\n",
       "      <td>2</td>\n",
       "      <td>1</td>\n",
       "      <td>1009</td>\n",
       "      <td>2615</td>\n",
       "      <td>7</td>\n",
       "    </tr>\n",
       "    <tr>\n",
       "      <th>3731</th>\n",
       "      <td>301</td>\n",
       "      <td>623</td>\n",
       "      <td>0</td>\n",
       "      <td>0</td>\n",
       "      <td>1</td>\n",
       "      <td>2746</td>\n",
       "      <td>1606</td>\n",
       "      <td>7</td>\n",
       "    </tr>\n",
       "    <tr>\n",
       "      <th>3732</th>\n",
       "      <td>301</td>\n",
       "      <td>549</td>\n",
       "      <td>1</td>\n",
       "      <td>1</td>\n",
       "      <td>1</td>\n",
       "      <td>2690</td>\n",
       "      <td>1550</td>\n",
       "      <td>7</td>\n",
       "    </tr>\n",
       "    <tr>\n",
       "      <th>3733</th>\n",
       "      <td>252</td>\n",
       "      <td>273</td>\n",
       "      <td>0</td>\n",
       "      <td>1</td>\n",
       "      <td>0</td>\n",
       "      <td>1995</td>\n",
       "      <td>854</td>\n",
       "      <td>7</td>\n",
       "    </tr>\n",
       "  </tbody>\n",
       "</table>\n",
       "<p>3650 rows × 8 columns</p>\n",
       "</div>"
      ],
      "text/plain": [
       "      brands  kmdriven  no_of_owner  Fuel  varient  Price   emi  Location\n",
       "0        326       724            0     1        1    498  2104         0\n",
       "1        454      1789            0     1        1    760  2367         0\n",
       "2        384      3307            0     1        1   1056  2662         0\n",
       "3        326      2874            0     1        1    536  2142         0\n",
       "4        454      1795            0     1        1    773  2380         0\n",
       "...      ...       ...          ...   ...      ...    ...   ...       ...\n",
       "3729     152       167            0     1        1   1604   463         7\n",
       "3730     379      2589            0     2        1   1009  2615         7\n",
       "3731     301       623            0     0        1   2746  1606         7\n",
       "3732     301       549            1     1        1   2690  1550         7\n",
       "3733     252       273            0     1        0   1995   854         7\n",
       "\n",
       "[3650 rows x 8 columns]"
      ]
     },
     "execution_count": 43,
     "metadata": {},
     "output_type": "execute_result"
    }
   ],
   "source": [
    "df_new=df[(z<3).all(axis=1)]\n",
    "df_new"
   ]
  },
  {
   "cell_type": "code",
   "execution_count": 44,
   "id": "d7fea649",
   "metadata": {},
   "outputs": [
    {
     "data": {
      "text/plain": [
       "(3650, 8)"
      ]
     },
     "execution_count": 44,
     "metadata": {},
     "output_type": "execute_result"
    }
   ],
   "source": [
    "df_new.shape"
   ]
  },
  {
   "cell_type": "code",
   "execution_count": 45,
   "id": "74946355",
   "metadata": {},
   "outputs": [
    {
     "name": "stdout",
     "output_type": "stream",
     "text": [
      "2.077638053581192\n"
     ]
    }
   ],
   "source": [
    "# Checking the percentage of loss data\n",
    "loss_percent =(3658-3582)/3658*100\n",
    "print(loss_percent)"
   ]
  },
  {
   "cell_type": "code",
   "execution_count": 46,
   "id": "493aee3d",
   "metadata": {},
   "outputs": [
    {
     "data": {
      "text/plain": [
       "brands        -0.112637\n",
       "kmdriven       0.014914\n",
       "no_of_owner    1.502760\n",
       "Fuel          -0.809866\n",
       "varient       -1.875227\n",
       "Price          0.030018\n",
       "emi            0.043764\n",
       "Location       0.194202\n",
       "dtype: float64"
      ]
     },
     "execution_count": 46,
     "metadata": {},
     "output_type": "execute_result"
    }
   ],
   "source": [
    "#checking Skewness after removing Outliers\n",
    "df_new.skew()"
   ]
  },
  {
   "cell_type": "code",
   "execution_count": 47,
   "id": "f9fc3f84",
   "metadata": {},
   "outputs": [],
   "source": [
    "# Removing Skewness\n",
    "from sklearn.preprocessing import PowerTransformer\n",
    "scaler = PowerTransformer(method='yeo-johnson')\n",
    "df_new[['varient','no_of_owner']] = scaler.fit_transform(df_new[['varient','no_of_owner']].values)"
   ]
  },
  {
   "cell_type": "code",
   "execution_count": 48,
   "id": "c7b7d04b",
   "metadata": {},
   "outputs": [
    {
     "data": {
      "text/plain": [
       "brands        -0.112637\n",
       "kmdriven       0.014914\n",
       "no_of_owner    1.502760\n",
       "Fuel          -0.809866\n",
       "varient       -1.875227\n",
       "Price          0.030018\n",
       "emi            0.043764\n",
       "Location       0.194202\n",
       "dtype: float64"
      ]
     },
     "execution_count": 48,
     "metadata": {},
     "output_type": "execute_result"
    }
   ],
   "source": [
    "df_new.skew()"
   ]
  },
  {
   "cell_type": "markdown",
   "id": "126076be",
   "metadata": {},
   "source": [
    "There is no skewness in our data."
   ]
  },
  {
   "cell_type": "code",
   "execution_count": 49,
   "id": "8a3145ee",
   "metadata": {},
   "outputs": [],
   "source": [
    "x = df_new.drop(\"Price\",axis=1)\n",
    "y = df_new[\"Price\"]"
   ]
  },
  {
   "cell_type": "code",
   "execution_count": 50,
   "id": "600c0e18",
   "metadata": {},
   "outputs": [],
   "source": [
    "# Scaling the data\n",
    "from sklearn.preprocessing import StandardScaler\n",
    "scaler=StandardScaler()\n",
    "X = pd.DataFrame(scaler.fit_transform(x), columns=x.columns)\n"
   ]
  },
  {
   "cell_type": "code",
   "execution_count": 51,
   "id": "4242053d",
   "metadata": {},
   "outputs": [
    {
     "data": {
      "text/html": [
       "<div>\n",
       "<style scoped>\n",
       "    .dataframe tbody tr th:only-of-type {\n",
       "        vertical-align: middle;\n",
       "    }\n",
       "\n",
       "    .dataframe tbody tr th {\n",
       "        vertical-align: top;\n",
       "    }\n",
       "\n",
       "    .dataframe thead th {\n",
       "        text-align: right;\n",
       "    }\n",
       "</style>\n",
       "<table border=\"1\" class=\"dataframe\">\n",
       "  <thead>\n",
       "    <tr style=\"text-align: right;\">\n",
       "      <th></th>\n",
       "      <th>brands</th>\n",
       "      <th>kmdriven</th>\n",
       "      <th>no_of_owner</th>\n",
       "      <th>Fuel</th>\n",
       "      <th>varient</th>\n",
       "      <th>emi</th>\n",
       "      <th>Location</th>\n",
       "    </tr>\n",
       "  </thead>\n",
       "  <tbody>\n",
       "    <tr>\n",
       "      <th>0</th>\n",
       "      <td>0.742425</td>\n",
       "      <td>-1.032267</td>\n",
       "      <td>-0.499572</td>\n",
       "      <td>0.623962</td>\n",
       "      <td>0.433318</td>\n",
       "      <td>0.893207</td>\n",
       "      <td>-1.480880</td>\n",
       "    </tr>\n",
       "    <tr>\n",
       "      <th>1</th>\n",
       "      <td>1.942126</td>\n",
       "      <td>-0.002295</td>\n",
       "      <td>-0.499572</td>\n",
       "      <td>0.623962</td>\n",
       "      <td>0.433318</td>\n",
       "      <td>1.211612</td>\n",
       "      <td>-1.480880</td>\n",
       "    </tr>\n",
       "    <tr>\n",
       "      <th>2</th>\n",
       "      <td>1.286040</td>\n",
       "      <td>1.465777</td>\n",
       "      <td>-0.499572</td>\n",
       "      <td>0.623962</td>\n",
       "      <td>0.433318</td>\n",
       "      <td>1.568758</td>\n",
       "      <td>-1.480880</td>\n",
       "    </tr>\n",
       "    <tr>\n",
       "      <th>3</th>\n",
       "      <td>0.742425</td>\n",
       "      <td>1.047019</td>\n",
       "      <td>-0.499572</td>\n",
       "      <td>0.623962</td>\n",
       "      <td>0.433318</td>\n",
       "      <td>0.939212</td>\n",
       "      <td>-1.480880</td>\n",
       "    </tr>\n",
       "    <tr>\n",
       "      <th>4</th>\n",
       "      <td>1.942126</td>\n",
       "      <td>0.003507</td>\n",
       "      <td>-0.499572</td>\n",
       "      <td>0.623962</td>\n",
       "      <td>0.433318</td>\n",
       "      <td>1.227350</td>\n",
       "      <td>-1.480880</td>\n",
       "    </tr>\n",
       "    <tr>\n",
       "      <th>...</th>\n",
       "      <td>...</td>\n",
       "      <td>...</td>\n",
       "      <td>...</td>\n",
       "      <td>...</td>\n",
       "      <td>...</td>\n",
       "      <td>...</td>\n",
       "      <td>...</td>\n",
       "    </tr>\n",
       "    <tr>\n",
       "      <th>3645</th>\n",
       "      <td>-0.888418</td>\n",
       "      <td>-1.570947</td>\n",
       "      <td>-0.499572</td>\n",
       "      <td>0.623962</td>\n",
       "      <td>0.433318</td>\n",
       "      <td>-1.093494</td>\n",
       "      <td>1.500249</td>\n",
       "    </tr>\n",
       "    <tr>\n",
       "      <th>3646</th>\n",
       "      <td>1.239177</td>\n",
       "      <td>0.771392</td>\n",
       "      <td>-0.499572</td>\n",
       "      <td>2.788849</td>\n",
       "      <td>0.433318</td>\n",
       "      <td>1.511856</td>\n",
       "      <td>1.500249</td>\n",
       "    </tr>\n",
       "    <tr>\n",
       "      <th>3647</th>\n",
       "      <td>0.508109</td>\n",
       "      <td>-1.129945</td>\n",
       "      <td>-0.499572</td>\n",
       "      <td>-1.540925</td>\n",
       "      <td>0.433318</td>\n",
       "      <td>0.290296</td>\n",
       "      <td>1.500249</td>\n",
       "    </tr>\n",
       "    <tr>\n",
       "      <th>3648</th>\n",
       "      <td>0.508109</td>\n",
       "      <td>-1.201511</td>\n",
       "      <td>2.001714</td>\n",
       "      <td>0.623962</td>\n",
       "      <td>0.433318</td>\n",
       "      <td>0.222498</td>\n",
       "      <td>1.500249</td>\n",
       "    </tr>\n",
       "    <tr>\n",
       "      <th>3649</th>\n",
       "      <td>0.048848</td>\n",
       "      <td>-1.468433</td>\n",
       "      <td>-0.499572</td>\n",
       "      <td>0.623962</td>\n",
       "      <td>-2.307775</td>\n",
       "      <td>-0.620124</td>\n",
       "      <td>1.500249</td>\n",
       "    </tr>\n",
       "  </tbody>\n",
       "</table>\n",
       "<p>3650 rows × 7 columns</p>\n",
       "</div>"
      ],
      "text/plain": [
       "        brands  kmdriven  no_of_owner      Fuel   varient       emi  Location\n",
       "0     0.742425 -1.032267    -0.499572  0.623962  0.433318  0.893207 -1.480880\n",
       "1     1.942126 -0.002295    -0.499572  0.623962  0.433318  1.211612 -1.480880\n",
       "2     1.286040  1.465777    -0.499572  0.623962  0.433318  1.568758 -1.480880\n",
       "3     0.742425  1.047019    -0.499572  0.623962  0.433318  0.939212 -1.480880\n",
       "4     1.942126  0.003507    -0.499572  0.623962  0.433318  1.227350 -1.480880\n",
       "...        ...       ...          ...       ...       ...       ...       ...\n",
       "3645 -0.888418 -1.570947    -0.499572  0.623962  0.433318 -1.093494  1.500249\n",
       "3646  1.239177  0.771392    -0.499572  2.788849  0.433318  1.511856  1.500249\n",
       "3647  0.508109 -1.129945    -0.499572 -1.540925  0.433318  0.290296  1.500249\n",
       "3648  0.508109 -1.201511     2.001714  0.623962  0.433318  0.222498  1.500249\n",
       "3649  0.048848 -1.468433    -0.499572  0.623962 -2.307775 -0.620124  1.500249\n",
       "\n",
       "[3650 rows x 7 columns]"
      ]
     },
     "execution_count": 51,
     "metadata": {},
     "output_type": "execute_result"
    }
   ],
   "source": [
    "X"
   ]
  },
  {
   "cell_type": "code",
   "execution_count": 52,
   "id": "5cd7d49f",
   "metadata": {},
   "outputs": [
    {
     "data": {
      "text/html": [
       "<div>\n",
       "<style scoped>\n",
       "    .dataframe tbody tr th:only-of-type {\n",
       "        vertical-align: middle;\n",
       "    }\n",
       "\n",
       "    .dataframe tbody tr th {\n",
       "        vertical-align: top;\n",
       "    }\n",
       "\n",
       "    .dataframe thead th {\n",
       "        text-align: right;\n",
       "    }\n",
       "</style>\n",
       "<table border=\"1\" class=\"dataframe\">\n",
       "  <thead>\n",
       "    <tr style=\"text-align: right;\">\n",
       "      <th></th>\n",
       "      <th>vif</th>\n",
       "      <th>Features</th>\n",
       "    </tr>\n",
       "  </thead>\n",
       "  <tbody>\n",
       "    <tr>\n",
       "      <th>0</th>\n",
       "      <td>1.151684</td>\n",
       "      <td>brands</td>\n",
       "    </tr>\n",
       "    <tr>\n",
       "      <th>1</th>\n",
       "      <td>1.069490</td>\n",
       "      <td>kmdriven</td>\n",
       "    </tr>\n",
       "    <tr>\n",
       "      <th>2</th>\n",
       "      <td>1.040712</td>\n",
       "      <td>no_of_owner</td>\n",
       "    </tr>\n",
       "    <tr>\n",
       "      <th>3</th>\n",
       "      <td>1.051170</td>\n",
       "      <td>Fuel</td>\n",
       "    </tr>\n",
       "    <tr>\n",
       "      <th>4</th>\n",
       "      <td>1.038432</td>\n",
       "      <td>varient</td>\n",
       "    </tr>\n",
       "    <tr>\n",
       "      <th>5</th>\n",
       "      <td>1.026977</td>\n",
       "      <td>emi</td>\n",
       "    </tr>\n",
       "    <tr>\n",
       "      <th>6</th>\n",
       "      <td>1.034104</td>\n",
       "      <td>Location</td>\n",
       "    </tr>\n",
       "  </tbody>\n",
       "</table>\n",
       "</div>"
      ],
      "text/plain": [
       "        vif     Features\n",
       "0  1.151684       brands\n",
       "1  1.069490     kmdriven\n",
       "2  1.040712  no_of_owner\n",
       "3  1.051170         Fuel\n",
       "4  1.038432      varient\n",
       "5  1.026977          emi\n",
       "6  1.034104     Location"
      ]
     },
     "execution_count": 52,
     "metadata": {},
     "output_type": "execute_result"
    }
   ],
   "source": [
    "# Checking multicollinearity using VIF\n",
    "vif = pd.DataFrame()\n",
    "vif[\"vif\"] = [variance_inflation_factor(X.values,i) for i in range(X.shape[1])]\n",
    "vif[\"Features\"] = X.columns\n",
    "vif"
   ]
  },
  {
   "cell_type": "code",
   "execution_count": 53,
   "id": "f7d98e75",
   "metadata": {},
   "outputs": [
    {
     "data": {
      "text/plain": [
       "PCA(n_components=5)"
      ]
     },
     "execution_count": 53,
     "metadata": {},
     "output_type": "execute_result"
    }
   ],
   "source": [
    "# PCA\n",
    "# Importing and fitting data to pca\n",
    "from sklearn.decomposition import PCA\n",
    "\n",
    "pca =PCA(n_components=5)\n",
    "pca.fit(x)"
   ]
  },
  {
   "cell_type": "code",
   "execution_count": 54,
   "id": "7b3d1538",
   "metadata": {},
   "outputs": [
    {
     "data": {
      "text/plain": [
       "array([6.06787559e-01, 3.87173521e-01, 6.03459416e-03, 3.11844976e-06,\n",
       "       5.70911151e-07])"
      ]
     },
     "execution_count": 54,
     "metadata": {},
     "output_type": "execute_result"
    }
   ],
   "source": [
    "pca.explained_variance_ratio_"
   ]
  },
  {
   "cell_type": "code",
   "execution_count": 55,
   "id": "df687cc1",
   "metadata": {},
   "outputs": [],
   "source": [
    "x_returned_pca=pca.transform(x)"
   ]
  },
  {
   "cell_type": "code",
   "execution_count": 56,
   "id": "80508a03",
   "metadata": {},
   "outputs": [
    {
     "data": {
      "text/plain": [
       "(3650, 5)"
      ]
     },
     "execution_count": 56,
     "metadata": {},
     "output_type": "execute_result"
    }
   ],
   "source": [
    "x_returned_pca.shape"
   ]
  },
  {
   "cell_type": "code",
   "execution_count": 57,
   "id": "84509009",
   "metadata": {},
   "outputs": [
    {
     "data": {
      "text/plain": [
       "ExtraTreesRegressor()"
      ]
     },
     "execution_count": 57,
     "metadata": {},
     "output_type": "execute_result"
    }
   ],
   "source": [
    "# Important feature using ExtraTreesRegressor\n",
    "\n",
    "from sklearn.ensemble import ExtraTreesRegressor\n",
    "selection = ExtraTreesRegressor()\n",
    "selection.fit(x,y)"
   ]
  },
  {
   "cell_type": "code",
   "execution_count": 58,
   "id": "f7c8555f",
   "metadata": {},
   "outputs": [
    {
     "name": "stdout",
     "output_type": "stream",
     "text": [
      "[0.04017392 0.00438325 0.00179027 0.00612709 0.01051813 0.93273481\n",
      " 0.00427254]\n"
     ]
    }
   ],
   "source": [
    "print(selection.feature_importances_)"
   ]
  },
  {
   "cell_type": "code",
   "execution_count": 59,
   "id": "11f440f6",
   "metadata": {},
   "outputs": [
    {
     "data": {
      "image/png": "[encoded data removed]",
      "text/plain": [
       "<Figure size 864x576 with 1 Axes>"
      ]
     },
     "metadata": {
      "needs_background": "light"
     },
     "output_type": "display_data"
    }
   ],
   "source": [
    "# Plotting graph  for feature importance\n",
    "plt.figure(figsize = (12,8))\n",
    "feat_imp = pd.Series(selection.feature_importances_ , index= x.columns)\n",
    "feat_imp.nlargest(20).plot(kind ='barh')\n",
    "plt.show()"
   ]
  },
  {
   "cell_type": "code",
   "execution_count": 60,
   "id": "97c7d5a3",
   "metadata": {},
   "outputs": [],
   "source": [
    "#splitting the  data\n",
    "x_train, x_test, y_train, y_test = train_test_split(x, y, test_size = 0.2, random_state = 42)"
   ]
  },
  {
   "cell_type": "code",
   "execution_count": 61,
   "id": "95f87e58",
   "metadata": {},
   "outputs": [
    {
     "name": "stdout",
     "output_type": "stream",
     "text": [
      "0.2954846464295855\n"
     ]
    }
   ],
   "source": [
    "from sklearn.linear_model import LinearRegression\n",
    "\n",
    "lr=LinearRegression()\n",
    "lr.fit(x_train,y_train)\n",
    "print(lr.score(x_train,y_train))\n",
    "lr_predict=lr.predict(x_test)"
   ]
  },
  {
   "cell_type": "code",
   "execution_count": 62,
   "id": "6b5a947a",
   "metadata": {},
   "outputs": [
    {
     "name": "stdout",
     "output_type": "stream",
     "text": [
      "MSE: 466364.69019080105\n",
      "MAE: 545.0973246388982\n",
      "r2_score: -2.012563896356057\n"
     ]
    }
   ],
   "source": [
    "from sklearn.metrics import mean_absolute_error\n",
    "print('MSE:',mean_squared_error(lr_predict,y_test))\n",
    "print('MAE:',mean_absolute_error(lr_predict,y_test))\n",
    "print('r2_score:',r2_score(lr_predict,y_test))"
   ]
  },
  {
   "cell_type": "code",
   "execution_count": 63,
   "id": "e58ee341",
   "metadata": {},
   "outputs": [
    {
     "name": "stdout",
     "output_type": "stream",
     "text": [
      "R2_score: -1.8135919950821272e+24\n",
      "MSE: 1.1012952578726632e+30\n",
      "MAE: 860090877201566.9\n",
      "RMSE: 1049426156464885.9\n"
     ]
    }
   ],
   "source": [
    "# Using SGD regressor\n",
    "from sklearn.linear_model import SGDRegressor\n",
    "from sklearn import metrics\n",
    "sgd=SGDRegressor()\n",
    "sgd.fit(x_train,y_train)\n",
    "pred=sgd.predict(x_test)\n",
    "print('R2_score:',r2_score(y_test,pred))\n",
    "print('MSE:',metrics.mean_squared_error(y_test,pred))\n",
    "print('MAE:',metrics.mean_absolute_error(y_test,pred))\n",
    "print('RMSE:',np.sqrt(metrics.mean_squared_error(y_test,pred)))"
   ]
  },
  {
   "cell_type": "code",
   "execution_count": 64,
   "id": "393677b7",
   "metadata": {},
   "outputs": [
    {
     "name": "stdout",
     "output_type": "stream",
     "text": [
      "{'alpha': 1, 'random_state': 0}\n"
     ]
    }
   ],
   "source": [
    "# Using LASSO\n",
    "from sklearn.linear_model import Lasso,Ridge\n",
    "parameters={'alpha':[0.0001,0.001,0.01,0.1,1,10],'random_state':list(range(0,100))}\n",
    "ls=Lasso()\n",
    "Z=GridSearchCV(ls,parameters)\n",
    "Z.fit(x_train,y_train)\n",
    "print(Z.best_params_)"
   ]
  },
  {
   "cell_type": "code",
   "execution_count": 65,
   "id": "857d5503",
   "metadata": {},
   "outputs": [
    {
     "name": "stdout",
     "output_type": "stream",
     "text": [
      "R2_score: 0.23212043359220114\n",
      "MSE: 466291.2757640014\n",
      "MAE: 545.1498125327679\n",
      "RMSE: 682.8552377803084\n"
     ]
    }
   ],
   "source": [
    "ls=Lasso(alpha=1,random_state=0)\n",
    "ls.fit(x_train,y_train)\n",
    "pred=ls.predict(x_test)\n",
    "print('R2_score:',r2_score(y_test,pred))\n",
    "print('MSE:',metrics.mean_squared_error(y_test,pred))\n",
    "print('MAE:',metrics.mean_absolute_error(y_test,pred))\n",
    "print('RMSE:',np.sqrt(metrics.mean_squared_error(y_test,pred)))"
   ]
  },
  {
   "cell_type": "code",
   "execution_count": 66,
   "id": "903d5e08",
   "metadata": {},
   "outputs": [
    {
     "name": "stdout",
     "output_type": "stream",
     "text": [
      "{'alpha': 10, 'solver': 'auto'}\n"
     ]
    }
   ],
   "source": [
    "# Using RIDGE\n",
    "parameters={'alpha':[0.001,0.01,0.1,1,10],'solver':['auto','svd','cholesky','lsqr','sparse_cg','sag','saga']}\n",
    "rd=Ridge()\n",
    "Z1=GridSearchCV(rd,parameters)\n",
    "Z1.fit(x_train,y_train)\n",
    "print(Z1.best_params_)"
   ]
  },
  {
   "cell_type": "code",
   "execution_count": 67,
   "id": "a4fb5d96",
   "metadata": {},
   "outputs": [
    {
     "name": "stdout",
     "output_type": "stream",
     "text": [
      "R2_score: 0.21472729126450774\n",
      "MSE: 476853.1801046332\n",
      "MAE: 555.1088086889005\n",
      "RMSE: 690.545567000928\n"
     ]
    }
   ],
   "source": [
    "rd=Ridge(alpha=10,solver='lsqr')\n",
    "rd.fit(x_train,y_train)\n",
    "pred=rd.predict(x_test)\n",
    "print('R2_score:',r2_score(y_test,pred))\n",
    "print('MSE:',metrics.mean_squared_error(y_test,pred))\n",
    "print('MAE:',metrics.mean_absolute_error(y_test,pred))\n",
    "print('RMSE:',np.sqrt(metrics.mean_squared_error(y_test,pred)))"
   ]
  },
  {
   "cell_type": "code",
   "execution_count": 68,
   "id": "8eaf89fe",
   "metadata": {},
   "outputs": [
    {
     "data": {
      "text/plain": [
       "RandomForestRegressor()"
      ]
     },
     "execution_count": 68,
     "metadata": {},
     "output_type": "execute_result"
    }
   ],
   "source": [
    "#Fitting the RandomForest Model \n",
    "from sklearn.ensemble import RandomForestRegressor\n",
    "reg_rf = RandomForestRegressor()\n",
    "reg_rf.fit(x_train, y_train)"
   ]
  },
  {
   "cell_type": "code",
   "execution_count": 69,
   "id": "57b3592f",
   "metadata": {},
   "outputs": [],
   "source": [
    "#predicting the value on X_test\n",
    "\n",
    "y_pred = reg_rf.predict(x_test)"
   ]
  },
  {
   "cell_type": "code",
   "execution_count": 70,
   "id": "52908ecb",
   "metadata": {},
   "outputs": [
    {
     "data": {
      "text/plain": [
       "0.9999882603178628"
      ]
     },
     "execution_count": 70,
     "metadata": {},
     "output_type": "execute_result"
    }
   ],
   "source": [
    "reg_rf.score(x_train, y_train)"
   ]
  },
  {
   "cell_type": "code",
   "execution_count": 71,
   "id": "e0da4216",
   "metadata": {},
   "outputs": [
    {
     "data": {
      "text/plain": [
       "0.9851469797788607"
      ]
     },
     "execution_count": 71,
     "metadata": {},
     "output_type": "execute_result"
    }
   ],
   "source": [
    "reg_rf.score(x_test, y_test)"
   ]
  },
  {
   "cell_type": "code",
   "execution_count": 72,
   "id": "783bc886",
   "metadata": {},
   "outputs": [
    {
     "data": {
      "text/plain": [
       "0.9851469797788607"
      ]
     },
     "execution_count": 72,
     "metadata": {},
     "output_type": "execute_result"
    }
   ],
   "source": [
    "metrics.r2_score(y_test, y_pred)"
   ]
  },
  {
   "cell_type": "code",
   "execution_count": 73,
   "id": "1f0e0c40",
   "metadata": {},
   "outputs": [],
   "source": [
    "# Hypereparameter Tuning\n",
    "from sklearn.model_selection import RandomizedSearchCV\n",
    "\n",
    "# Number of trees in random forest\n",
    "n_estimators = [int(x) for x in np.linspace(start = 100, stop = 1200, num = 12)]\n",
    "\n",
    "# Number of features to consider at every split\n",
    "max_features = ['auto', 'sqrt']\n",
    "\n",
    "# Maximum number of levels in tree\n",
    "max_depth = [int(x) for x in np.linspace(5, 30, num = 6)]\n",
    "\n",
    "# Minimum number of samples required to split a node\n",
    "min_samples_split = [2, 5, 10, 15, 100]\n",
    "\n",
    "# Minimum number of samples required at each leaf node\n",
    "min_samples_leaf = [1, 2, 5, 10]"
   ]
  },
  {
   "cell_type": "code",
   "execution_count": 74,
   "id": "dd75e936",
   "metadata": {},
   "outputs": [],
   "source": [
    "# Create the random grid\n",
    "\n",
    "random_grid = {'n_estimators': n_estimators,\n",
    "               'max_features': max_features,\n",
    "               'max_depth': max_depth,\n",
    "               'min_samples_split': min_samples_split,\n",
    "               'min_samples_leaf': min_samples_leaf}"
   ]
  },
  {
   "cell_type": "code",
   "execution_count": 75,
   "id": "facb2d1f",
   "metadata": {},
   "outputs": [],
   "source": [
    "rf_random = RandomizedSearchCV( estimator = reg_rf , param_distributions= random_grid , scoring='neg_mean_squared_error',\n",
    "                               n_iter = 10, cv = 5, verbose=2, random_state=42, n_jobs = 1)"
   ]
  },
  {
   "cell_type": "code",
   "execution_count": 76,
   "id": "9701dd59",
   "metadata": {},
   "outputs": [
    {
     "name": "stdout",
     "output_type": "stream",
     "text": [
      "Fitting 5 folds for each of 10 candidates, totalling 50 fits\n",
      "[CV] END max_depth=10, max_features=sqrt, min_samples_leaf=5, min_samples_split=5, n_estimators=900; total time=   2.0s\n",
      "[CV] END max_depth=10, max_features=sqrt, min_samples_leaf=5, min_samples_split=5, n_estimators=900; total time=   2.2s\n",
      "[CV] END max_depth=10, max_features=sqrt, min_samples_leaf=5, min_samples_split=5, n_estimators=900; total time=   2.0s\n",
      "[CV] END max_depth=10, max_features=sqrt, min_samples_leaf=5, min_samples_split=5, n_estimators=900; total time=   2.1s\n",
      "[CV] END max_depth=10, max_features=sqrt, min_samples_leaf=5, min_samples_split=5, n_estimators=900; total time=   2.0s\n",
      "[CV] END max_depth=15, max_features=sqrt, min_samples_leaf=2, min_samples_split=10, n_estimators=1100; total time=   2.9s\n",
      "[CV] END max_depth=15, max_features=sqrt, min_samples_leaf=2, min_samples_split=10, n_estimators=1100; total time=   4.0s\n",
      "[CV] END max_depth=15, max_features=sqrt, min_samples_leaf=2, min_samples_split=10, n_estimators=1100; total time=   5.3s\n",
      "[CV] END max_depth=15, max_features=sqrt, min_samples_leaf=2, min_samples_split=10, n_estimators=1100; total time=   4.9s\n",
      "[CV] END max_depth=15, max_features=sqrt, min_samples_leaf=2, min_samples_split=10, n_estimators=1100; total time=   4.4s\n",
      "[CV] END max_depth=15, max_features=auto, min_samples_leaf=5, min_samples_split=100, n_estimators=300; total time=   1.8s\n",
      "[CV] END max_depth=15, max_features=auto, min_samples_leaf=5, min_samples_split=100, n_estimators=300; total time=   1.4s\n",
      "[CV] END max_depth=15, max_features=auto, min_samples_leaf=5, min_samples_split=100, n_estimators=300; total time=   1.5s\n",
      "[CV] END max_depth=15, max_features=auto, min_samples_leaf=5, min_samples_split=100, n_estimators=300; total time=   1.5s\n",
      "[CV] END max_depth=15, max_features=auto, min_samples_leaf=5, min_samples_split=100, n_estimators=300; total time=   1.3s\n",
      "[CV] END max_depth=15, max_features=auto, min_samples_leaf=5, min_samples_split=5, n_estimators=400; total time=   3.1s\n",
      "[CV] END max_depth=15, max_features=auto, min_samples_leaf=5, min_samples_split=5, n_estimators=400; total time=   2.5s\n",
      "[CV] END max_depth=15, max_features=auto, min_samples_leaf=5, min_samples_split=5, n_estimators=400; total time=   2.5s\n",
      "[CV] END max_depth=15, max_features=auto, min_samples_leaf=5, min_samples_split=5, n_estimators=400; total time=   2.5s\n",
      "[CV] END max_depth=15, max_features=auto, min_samples_leaf=5, min_samples_split=5, n_estimators=400; total time=   2.0s\n",
      "[CV] END max_depth=20, max_features=auto, min_samples_leaf=10, min_samples_split=5, n_estimators=700; total time=   3.7s\n",
      "[CV] END max_depth=20, max_features=auto, min_samples_leaf=10, min_samples_split=5, n_estimators=700; total time=   4.8s\n",
      "[CV] END max_depth=20, max_features=auto, min_samples_leaf=10, min_samples_split=5, n_estimators=700; total time=   4.4s\n",
      "[CV] END max_depth=20, max_features=auto, min_samples_leaf=10, min_samples_split=5, n_estimators=700; total time=   4.9s\n",
      "[CV] END max_depth=20, max_features=auto, min_samples_leaf=10, min_samples_split=5, n_estimators=700; total time=   3.9s\n",
      "[CV] END max_depth=25, max_features=sqrt, min_samples_leaf=1, min_samples_split=2, n_estimators=1000; total time=   4.4s\n",
      "[CV] END max_depth=25, max_features=sqrt, min_samples_leaf=1, min_samples_split=2, n_estimators=1000; total time=   5.8s\n",
      "[CV] END max_depth=25, max_features=sqrt, min_samples_leaf=1, min_samples_split=2, n_estimators=1000; total time=   4.7s\n",
      "[CV] END max_depth=25, max_features=sqrt, min_samples_leaf=1, min_samples_split=2, n_estimators=1000; total time=   4.2s\n",
      "[CV] END max_depth=25, max_features=sqrt, min_samples_leaf=1, min_samples_split=2, n_estimators=1000; total time=   4.5s\n",
      "[CV] END max_depth=5, max_features=sqrt, min_samples_leaf=10, min_samples_split=15, n_estimators=1100; total time=   2.7s\n",
      "[CV] END max_depth=5, max_features=sqrt, min_samples_leaf=10, min_samples_split=15, n_estimators=1100; total time=   2.6s\n",
      "[CV] END max_depth=5, max_features=sqrt, min_samples_leaf=10, min_samples_split=15, n_estimators=1100; total time=   2.5s\n",
      "[CV] END max_depth=5, max_features=sqrt, min_samples_leaf=10, min_samples_split=15, n_estimators=1100; total time=   2.5s\n",
      "[CV] END max_depth=5, max_features=sqrt, min_samples_leaf=10, min_samples_split=15, n_estimators=1100; total time=   2.4s\n",
      "[CV] END max_depth=15, max_features=sqrt, min_samples_leaf=1, min_samples_split=15, n_estimators=300; total time=   0.8s\n",
      "[CV] END max_depth=15, max_features=sqrt, min_samples_leaf=1, min_samples_split=15, n_estimators=300; total time=   0.8s\n",
      "[CV] END max_depth=15, max_features=sqrt, min_samples_leaf=1, min_samples_split=15, n_estimators=300; total time=   0.9s\n",
      "[CV] END max_depth=15, max_features=sqrt, min_samples_leaf=1, min_samples_split=15, n_estimators=300; total time=   0.8s\n",
      "[CV] END max_depth=15, max_features=sqrt, min_samples_leaf=1, min_samples_split=15, n_estimators=300; total time=   0.8s\n",
      "[CV] END max_depth=5, max_features=sqrt, min_samples_leaf=2, min_samples_split=10, n_estimators=700; total time=   1.4s\n",
      "[CV] END max_depth=5, max_features=sqrt, min_samples_leaf=2, min_samples_split=10, n_estimators=700; total time=   1.4s\n",
      "[CV] END max_depth=5, max_features=sqrt, min_samples_leaf=2, min_samples_split=10, n_estimators=700; total time=   1.4s\n",
      "[CV] END max_depth=5, max_features=sqrt, min_samples_leaf=2, min_samples_split=10, n_estimators=700; total time=   1.4s\n",
      "[CV] END max_depth=5, max_features=sqrt, min_samples_leaf=2, min_samples_split=10, n_estimators=700; total time=   1.4s\n",
      "[CV] END max_depth=20, max_features=auto, min_samples_leaf=1, min_samples_split=15, n_estimators=700; total time=   3.5s\n",
      "[CV] END max_depth=20, max_features=auto, min_samples_leaf=1, min_samples_split=15, n_estimators=700; total time=   3.7s\n",
      "[CV] END max_depth=20, max_features=auto, min_samples_leaf=1, min_samples_split=15, n_estimators=700; total time=   4.5s\n",
      "[CV] END max_depth=20, max_features=auto, min_samples_leaf=1, min_samples_split=15, n_estimators=700; total time=   3.5s\n",
      "[CV] END max_depth=20, max_features=auto, min_samples_leaf=1, min_samples_split=15, n_estimators=700; total time=   3.5s\n"
     ]
    },
    {
     "data": {
      "text/plain": [
       "RandomizedSearchCV(cv=5, estimator=RandomForestRegressor(), n_jobs=1,\n",
       "                   param_distributions={'max_depth': [5, 10, 15, 20, 25, 30],\n",
       "                                        'max_features': ['auto', 'sqrt'],\n",
       "                                        'min_samples_leaf': [1, 2, 5, 10],\n",
       "                                        'min_samples_split': [2, 5, 10, 15,\n",
       "                                                              100],\n",
       "                                        'n_estimators': [100, 200, 300, 400,\n",
       "                                                         500, 600, 700, 800,\n",
       "                                                         900, 1000, 1100,\n",
       "                                                         1200]},\n",
       "                   random_state=42, scoring='neg_mean_squared_error',\n",
       "                   verbose=2)"
      ]
     },
     "execution_count": 76,
     "metadata": {},
     "output_type": "execute_result"
    }
   ],
   "source": [
    "rf_random.fit(x_train , y_train)"
   ]
  },
  {
   "cell_type": "code",
   "execution_count": 77,
   "id": "dfbb48a8",
   "metadata": {},
   "outputs": [
    {
     "data": {
      "text/plain": [
       "{'n_estimators': 400,\n",
       " 'min_samples_split': 5,\n",
       " 'min_samples_leaf': 5,\n",
       " 'max_features': 'auto',\n",
       " 'max_depth': 15}"
      ]
     },
     "execution_count": 77,
     "metadata": {},
     "output_type": "execute_result"
    }
   ],
   "source": [
    "rf_random.best_params_"
   ]
  },
  {
   "cell_type": "code",
   "execution_count": 78,
   "id": "32723ac7",
   "metadata": {},
   "outputs": [],
   "source": [
    "prediction = rf_random.predict(x_test)"
   ]
  },
  {
   "cell_type": "code",
   "execution_count": 79,
   "id": "2a10129c",
   "metadata": {},
   "outputs": [
    {
     "name": "stdout",
     "output_type": "stream",
     "text": [
      "MAE: 5.993354193285612\n",
      "MSE: 8737.640173005053\n",
      "RMSE: 93.47534526817782\n"
     ]
    }
   ],
   "source": [
    "print('MAE:', metrics.mean_absolute_error(y_test, prediction))\n",
    "print('MSE:', metrics.mean_squared_error(y_test, prediction))\n",
    "print('RMSE:', np.sqrt(metrics.mean_squared_error(y_test, prediction)))"
   ]
  },
  {
   "cell_type": "code",
   "execution_count": 80,
   "id": "2e102086",
   "metadata": {},
   "outputs": [
    {
     "name": "stdout",
     "output_type": "stream",
     "text": [
      "R2 Score of Our Model is : \n",
      "\n"
     ]
    },
    {
     "data": {
      "text/plain": [
       "0.9856110210587121"
      ]
     },
     "execution_count": 80,
     "metadata": {},
     "output_type": "execute_result"
    }
   ],
   "source": [
    "print(\"R2 Score of Our Model is : \")\n",
    "print()\n",
    "metrics.r2_score(y_test, prediction)"
   ]
  },
  {
   "cell_type": "markdown",
   "id": "c01baf4f",
   "metadata": {},
   "source": [
    "Hence, Random Forest Regressor gives us the best accuracy score"
   ]
  },
  {
   "cell_type": "code",
   "execution_count": 81,
   "id": "173ebe25",
   "metadata": {},
   "outputs": [],
   "source": [
    "# Saving The model\n",
    "import pickle\n",
    "file = 'USED CAR PRICE PREDICTION.pkl'\n",
    "#save file\n",
    "save = pickle.dump(RandomForestRegressor,open(file,'wb'))"
   ]
  },
  {
   "cell_type": "code",
   "execution_count": 82,
   "id": "21d6dd70",
   "metadata": {},
   "outputs": [
    {
     "data": {
      "text/html": [
       "<div>\n",
       "<style scoped>\n",
       "    .dataframe tbody tr th:only-of-type {\n",
       "        vertical-align: middle;\n",
       "    }\n",
       "\n",
       "    .dataframe tbody tr th {\n",
       "        vertical-align: top;\n",
       "    }\n",
       "\n",
       "    .dataframe thead th {\n",
       "        text-align: right;\n",
       "    }\n",
       "</style>\n",
       "<table border=\"1\" class=\"dataframe\">\n",
       "  <thead>\n",
       "    <tr style=\"text-align: right;\">\n",
       "      <th></th>\n",
       "      <th>Actual_Price</th>\n",
       "      <th>Predicted_Price</th>\n",
       "      <th>Error</th>\n",
       "    </tr>\n",
       "  </thead>\n",
       "  <tbody>\n",
       "    <tr>\n",
       "      <th>1349</th>\n",
       "      <td>1413</td>\n",
       "      <td>1412.46</td>\n",
       "      <td>0.54</td>\n",
       "    </tr>\n",
       "    <tr>\n",
       "      <th>1714</th>\n",
       "      <td>1098</td>\n",
       "      <td>1097.52</td>\n",
       "      <td>0.48</td>\n",
       "    </tr>\n",
       "    <tr>\n",
       "      <th>234</th>\n",
       "      <td>2368</td>\n",
       "      <td>2367.90</td>\n",
       "      <td>0.10</td>\n",
       "    </tr>\n",
       "    <tr>\n",
       "      <th>3034</th>\n",
       "      <td>2652</td>\n",
       "      <td>2650.92</td>\n",
       "      <td>1.08</td>\n",
       "    </tr>\n",
       "    <tr>\n",
       "      <th>2267</th>\n",
       "      <td>2236</td>\n",
       "      <td>2236.49</td>\n",
       "      <td>-0.49</td>\n",
       "    </tr>\n",
       "    <tr>\n",
       "      <th>...</th>\n",
       "      <td>...</td>\n",
       "      <td>...</td>\n",
       "      <td>...</td>\n",
       "    </tr>\n",
       "    <tr>\n",
       "      <th>3456</th>\n",
       "      <td>1828</td>\n",
       "      <td>1828.40</td>\n",
       "      <td>-0.40</td>\n",
       "    </tr>\n",
       "    <tr>\n",
       "      <th>348</th>\n",
       "      <td>1078</td>\n",
       "      <td>1076.76</td>\n",
       "      <td>1.24</td>\n",
       "    </tr>\n",
       "    <tr>\n",
       "      <th>1793</th>\n",
       "      <td>1704</td>\n",
       "      <td>1704.01</td>\n",
       "      <td>-0.01</td>\n",
       "    </tr>\n",
       "    <tr>\n",
       "      <th>1638</th>\n",
       "      <td>290</td>\n",
       "      <td>290.04</td>\n",
       "      <td>-0.04</td>\n",
       "    </tr>\n",
       "    <tr>\n",
       "      <th>694</th>\n",
       "      <td>2433</td>\n",
       "      <td>2432.50</td>\n",
       "      <td>0.50</td>\n",
       "    </tr>\n",
       "  </tbody>\n",
       "</table>\n",
       "<p>730 rows × 3 columns</p>\n",
       "</div>"
      ],
      "text/plain": [
       "      Actual_Price  Predicted_Price  Error\n",
       "1349          1413          1412.46   0.54\n",
       "1714          1098          1097.52   0.48\n",
       "234           2368          2367.90   0.10\n",
       "3034          2652          2650.92   1.08\n",
       "2267          2236          2236.49  -0.49\n",
       "...            ...              ...    ...\n",
       "3456          1828          1828.40  -0.40\n",
       "348           1078          1076.76   1.24\n",
       "1793          1704          1704.01  -0.01\n",
       "1638           290           290.04  -0.04\n",
       "694           2433          2432.50   0.50\n",
       "\n",
       "[730 rows x 3 columns]"
      ]
     },
     "execution_count": 82,
     "metadata": {},
     "output_type": "execute_result"
    }
   ],
   "source": [
    "# Conclusion\n",
    "rf_predict = pd.DataFrame({\n",
    "    'Actual_Price' : y_test,\n",
    "    'Predicted_Price' : y_pred\n",
    "})\n",
    "\n",
    "rf_predict['Error'] = rf_predict['Actual_Price'] - rf_predict['Predicted_Price']\n",
    "\n",
    "rf_predict"
   ]
  },
  {
   "cell_type": "code",
   "execution_count": null,
   "id": "fda103d3",
   "metadata": {},
   "outputs": [],
   "source": []
  },
  {
   "cell_type": "code",
   "execution_count": null,
   "id": "e1e0731e",
   "metadata": {},
   "outputs": [],
   "source": []
  },
  {
   "cell_type": "code",
   "execution_count": null,
   "id": "9d0f193d",
   "metadata": {},
   "outputs": [],
   "source": []
  },
  {
   "cell_type": "code",
   "execution_count": null,
   "id": "8a32ca49",
   "metadata": {},
   "outputs": [],
   "source": []
  },
  {
   "cell_type": "code",
   "execution_count": null,
   "id": "a5aead7a",
   "metadata": {},
   "outputs": [],
   "source": []
  },
  {
   "cell_type": "code",
   "execution_count": null,
   "id": "b1399a09",
   "metadata": {},
   "outputs": [],
   "source": []
  },
  {
   "cell_type": "code",
   "execution_count": null,
   "id": "07341c6b",
   "metadata": {},
   "outputs": [],
   "source": []
  },
  {
   "cell_type": "code",
   "execution_count": null,
   "id": "c3118f08",
   "metadata": {},
   "outputs": [],
   "source": []
  },
  {
   "cell_type": "code",
   "execution_count": null,
   "id": "335a1311",
   "metadata": {},
   "outputs": [],
   "source": []
  },
  {
   "cell_type": "code",
   "execution_count": null,
   "id": "6ff51224",
   "metadata": {},
   "outputs": [],
   "source": []
  },
  {
   "cell_type": "code",
   "execution_count": null,
   "id": "8b089e59",
   "metadata": {},
   "outputs": [],
   "source": []
  },
  {
   "cell_type": "code",
   "execution_count": null,
   "id": "8e8e9df3",
   "metadata": {},
   "outputs": [],
   "source": []
  }
 ],
 "metadata": {
  "kernelspec": {
   "display_name": "Python 3",
   "language": "python",
   "name": "python3"
  },
  "language_info": {
   "codemirror_mode": {
    "name": "ipython",
    "version": 3
   },
   "file_extension": ".py",
   "mimetype": "text/x-python",
   "name": "python",
   "nbconvert_exporter": "python",
   "pygments_lexer": "ipython3",
   "version": "3.8.8"
  }
 },
 "nbformat": 4,
 "nbformat_minor": 5
}
